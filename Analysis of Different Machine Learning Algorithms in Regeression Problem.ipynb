{
  "cells": [
    {
      "cell_type": "markdown",
      "metadata": {
        "id": "HG1RQMuatbYK"
      },
      "source": [
        "## Importing Libraries\n"
      ]
    },
    {
      "cell_type": "code",
      "execution_count": null,
      "metadata": {
        "id": "1eg-bnGrzejL"
      },
      "outputs": [],
      "source": [
        "import numpy as np \n",
        "import pandas as pd \n",
        "import matplotlib\n",
        "import matplotlib.pyplot as plt\n",
        "import seaborn as sns \n",
        "from google.colab import drive "
      ]
    },
    {
      "cell_type": "markdown",
      "metadata": {
        "id": "R82RUUhztwqN"
      },
      "source": [
        "## Input reading from File"
      ]
    },
    {
      "cell_type": "code",
      "execution_count": null,
      "metadata": {
        "id": "U9XLJ9vAVJYc",
        "colab": {
          "base_uri": "https://localhost:8080/"
        },
        "outputId": "3906a7f3-b5c2-4c69-bf3c-f73ddd9b725c"
      },
      "outputs": [
        {
          "output_type": "stream",
          "name": "stdout",
          "text": [
            "Mounted at /content/drive\n"
          ]
        }
      ],
      "source": [
        "from google.colab import drive\n",
        "drive.mount('/content/drive')"
      ]
    },
    {
      "cell_type": "markdown",
      "metadata": {
        "id": "1ujC_x0xt3ba"
      },
      "source": [
        "## Dataset"
      ]
    },
    {
      "cell_type": "code",
      "execution_count": null,
      "metadata": {
        "id": "N635OnR6J9oS",
        "colab": {
          "base_uri": "https://localhost:8080/",
          "height": 206
        },
        "outputId": "3cc5764f-920c-4cf8-91d5-d68ee9e97841"
      },
      "outputs": [
        {
          "output_type": "execute_result",
          "data": {
            "text/plain": [
              "   Unnamed: 0    BrandName                                            Deatils  \\\n",
              "0           0         life  solid cotton blend collar neck womens a-line d...   \n",
              "1           1         only  polyester peter pan collar womens blouson dres...   \n",
              "2           2      fratini  solid polyester blend wide neck womens regular...   \n",
              "3           3  zink london  stripes polyester sweetheart neck womens dress...   \n",
              "4           4         life  regular fit regular length denim womens jeans ...   \n",
              "\n",
              "                                     Sizes       MRP SellPrice Discount  \\\n",
              "0  Size:Large,Medium,Small,X-Large,X-Small  Rs\\n1699       849  50% off   \n",
              "1                         Size:34,36,38,40  Rs\\n3499      2449  30% off   \n",
              "2              Size:Large,X-Large,XX-Large  Rs\\n1199       599  50% off   \n",
              "3          Size:Large,Medium,Small,X-Large  Rs\\n2299      1379  40% off   \n",
              "4                   Size:26,28,30,32,34,36  Rs\\n1699       849  50% off   \n",
              "\n",
              "            Category  \n",
              "0  Westernwear-Women  \n",
              "1  Westernwear-Women  \n",
              "2  Westernwear-Women  \n",
              "3  Westernwear-Women  \n",
              "4  Westernwear-Women  "
            ],
            "text/html": [
              "\n",
              "  <div id=\"df-11e3c65f-f186-4d03-87ae-04129218438d\">\n",
              "    <div class=\"colab-df-container\">\n",
              "      <div>\n",
              "<style scoped>\n",
              "    .dataframe tbody tr th:only-of-type {\n",
              "        vertical-align: middle;\n",
              "    }\n",
              "\n",
              "    .dataframe tbody tr th {\n",
              "        vertical-align: top;\n",
              "    }\n",
              "\n",
              "    .dataframe thead th {\n",
              "        text-align: right;\n",
              "    }\n",
              "</style>\n",
              "<table border=\"1\" class=\"dataframe\">\n",
              "  <thead>\n",
              "    <tr style=\"text-align: right;\">\n",
              "      <th></th>\n",
              "      <th>Unnamed: 0</th>\n",
              "      <th>BrandName</th>\n",
              "      <th>Deatils</th>\n",
              "      <th>Sizes</th>\n",
              "      <th>MRP</th>\n",
              "      <th>SellPrice</th>\n",
              "      <th>Discount</th>\n",
              "      <th>Category</th>\n",
              "    </tr>\n",
              "  </thead>\n",
              "  <tbody>\n",
              "    <tr>\n",
              "      <th>0</th>\n",
              "      <td>0</td>\n",
              "      <td>life</td>\n",
              "      <td>solid cotton blend collar neck womens a-line d...</td>\n",
              "      <td>Size:Large,Medium,Small,X-Large,X-Small</td>\n",
              "      <td>Rs\\n1699</td>\n",
              "      <td>849</td>\n",
              "      <td>50% off</td>\n",
              "      <td>Westernwear-Women</td>\n",
              "    </tr>\n",
              "    <tr>\n",
              "      <th>1</th>\n",
              "      <td>1</td>\n",
              "      <td>only</td>\n",
              "      <td>polyester peter pan collar womens blouson dres...</td>\n",
              "      <td>Size:34,36,38,40</td>\n",
              "      <td>Rs\\n3499</td>\n",
              "      <td>2449</td>\n",
              "      <td>30% off</td>\n",
              "      <td>Westernwear-Women</td>\n",
              "    </tr>\n",
              "    <tr>\n",
              "      <th>2</th>\n",
              "      <td>2</td>\n",
              "      <td>fratini</td>\n",
              "      <td>solid polyester blend wide neck womens regular...</td>\n",
              "      <td>Size:Large,X-Large,XX-Large</td>\n",
              "      <td>Rs\\n1199</td>\n",
              "      <td>599</td>\n",
              "      <td>50% off</td>\n",
              "      <td>Westernwear-Women</td>\n",
              "    </tr>\n",
              "    <tr>\n",
              "      <th>3</th>\n",
              "      <td>3</td>\n",
              "      <td>zink london</td>\n",
              "      <td>stripes polyester sweetheart neck womens dress...</td>\n",
              "      <td>Size:Large,Medium,Small,X-Large</td>\n",
              "      <td>Rs\\n2299</td>\n",
              "      <td>1379</td>\n",
              "      <td>40% off</td>\n",
              "      <td>Westernwear-Women</td>\n",
              "    </tr>\n",
              "    <tr>\n",
              "      <th>4</th>\n",
              "      <td>4</td>\n",
              "      <td>life</td>\n",
              "      <td>regular fit regular length denim womens jeans ...</td>\n",
              "      <td>Size:26,28,30,32,34,36</td>\n",
              "      <td>Rs\\n1699</td>\n",
              "      <td>849</td>\n",
              "      <td>50% off</td>\n",
              "      <td>Westernwear-Women</td>\n",
              "    </tr>\n",
              "  </tbody>\n",
              "</table>\n",
              "</div>\n",
              "      <button class=\"colab-df-convert\" onclick=\"convertToInteractive('df-11e3c65f-f186-4d03-87ae-04129218438d')\"\n",
              "              title=\"Convert this dataframe to an interactive table.\"\n",
              "              style=\"display:none;\">\n",
              "        \n",
              "  <svg xmlns=\"http://www.w3.org/2000/svg\" height=\"24px\"viewBox=\"0 0 24 24\"\n",
              "       width=\"24px\">\n",
              "    <path d=\"M0 0h24v24H0V0z\" fill=\"none\"/>\n",
              "    <path d=\"M18.56 5.44l.94 2.06.94-2.06 2.06-.94-2.06-.94-.94-2.06-.94 2.06-2.06.94zm-11 1L8.5 8.5l.94-2.06 2.06-.94-2.06-.94L8.5 2.5l-.94 2.06-2.06.94zm10 10l.94 2.06.94-2.06 2.06-.94-2.06-.94-.94-2.06-.94 2.06-2.06.94z\"/><path d=\"M17.41 7.96l-1.37-1.37c-.4-.4-.92-.59-1.43-.59-.52 0-1.04.2-1.43.59L10.3 9.45l-7.72 7.72c-.78.78-.78 2.05 0 2.83L4 21.41c.39.39.9.59 1.41.59.51 0 1.02-.2 1.41-.59l7.78-7.78 2.81-2.81c.8-.78.8-2.07 0-2.86zM5.41 20L4 18.59l7.72-7.72 1.47 1.35L5.41 20z\"/>\n",
              "  </svg>\n",
              "      </button>\n",
              "      \n",
              "  <style>\n",
              "    .colab-df-container {\n",
              "      display:flex;\n",
              "      flex-wrap:wrap;\n",
              "      gap: 12px;\n",
              "    }\n",
              "\n",
              "    .colab-df-convert {\n",
              "      background-color: #E8F0FE;\n",
              "      border: none;\n",
              "      border-radius: 50%;\n",
              "      cursor: pointer;\n",
              "      display: none;\n",
              "      fill: #1967D2;\n",
              "      height: 32px;\n",
              "      padding: 0 0 0 0;\n",
              "      width: 32px;\n",
              "    }\n",
              "\n",
              "    .colab-df-convert:hover {\n",
              "      background-color: #E2EBFA;\n",
              "      box-shadow: 0px 1px 2px rgba(60, 64, 67, 0.3), 0px 1px 3px 1px rgba(60, 64, 67, 0.15);\n",
              "      fill: #174EA6;\n",
              "    }\n",
              "\n",
              "    [theme=dark] .colab-df-convert {\n",
              "      background-color: #3B4455;\n",
              "      fill: #D2E3FC;\n",
              "    }\n",
              "\n",
              "    [theme=dark] .colab-df-convert:hover {\n",
              "      background-color: #434B5C;\n",
              "      box-shadow: 0px 1px 3px 1px rgba(0, 0, 0, 0.15);\n",
              "      filter: drop-shadow(0px 1px 2px rgba(0, 0, 0, 0.3));\n",
              "      fill: #FFFFFF;\n",
              "    }\n",
              "  </style>\n",
              "\n",
              "      <script>\n",
              "        const buttonEl =\n",
              "          document.querySelector('#df-11e3c65f-f186-4d03-87ae-04129218438d button.colab-df-convert');\n",
              "        buttonEl.style.display =\n",
              "          google.colab.kernel.accessAllowed ? 'block' : 'none';\n",
              "\n",
              "        async function convertToInteractive(key) {\n",
              "          const element = document.querySelector('#df-11e3c65f-f186-4d03-87ae-04129218438d');\n",
              "          const dataTable =\n",
              "            await google.colab.kernel.invokeFunction('convertToInteractive',\n",
              "                                                     [key], {});\n",
              "          if (!dataTable) return;\n",
              "\n",
              "          const docLinkHtml = 'Like what you see? Visit the ' +\n",
              "            '<a target=\"_blank\" href=https://colab.research.google.com/notebooks/data_table.ipynb>data table notebook</a>'\n",
              "            + ' to learn more about interactive tables.';\n",
              "          element.innerHTML = '';\n",
              "          dataTable['output_type'] = 'display_data';\n",
              "          await google.colab.output.renderOutput(dataTable, element);\n",
              "          const docLink = document.createElement('div');\n",
              "          docLink.innerHTML = docLinkHtml;\n",
              "          element.appendChild(docLink);\n",
              "        }\n",
              "      </script>\n",
              "    </div>\n",
              "  </div>\n",
              "  "
            ]
          },
          "metadata": {},
          "execution_count": 3
        }
      ],
      "source": [
        "\n",
        "data = pd.read_csv('/content/drive/MyDrive/FashionDataset.csv')\n",
        "data.head()"
      ]
    },
    {
      "cell_type": "markdown",
      "metadata": {
        "id": "9fzWcqIst8fE"
      },
      "source": [
        "## Data Describing"
      ]
    },
    {
      "cell_type": "code",
      "execution_count": null,
      "metadata": {
        "id": "Ven0vzFVJ-Pc",
        "colab": {
          "base_uri": "https://localhost:8080/"
        },
        "outputId": "c037f958-f6e6-45d3-b187-1a98b8d32861"
      },
      "outputs": [
        {
          "output_type": "execute_result",
          "data": {
            "text/plain": [
              "pandas.core.frame.DataFrame"
            ]
          },
          "metadata": {},
          "execution_count": 4
        }
      ],
      "source": [
        "type(data)"
      ]
    },
    {
      "cell_type": "code",
      "execution_count": null,
      "metadata": {
        "id": "OVAu7nAyKAf5",
        "colab": {
          "base_uri": "https://localhost:8080/"
        },
        "outputId": "2f1ac37f-9b7a-40a0-d514-7c46c933b88f"
      },
      "outputs": [
        {
          "output_type": "stream",
          "name": "stdout",
          "text": [
            "<class 'pandas.core.frame.DataFrame'>\n",
            "RangeIndex: 30758 entries, 0 to 30757\n",
            "Data columns (total 8 columns):\n",
            " #   Column      Non-Null Count  Dtype \n",
            "---  ------      --------------  ----- \n",
            " 0   Unnamed: 0  30758 non-null  int64 \n",
            " 1   BrandName   30758 non-null  object\n",
            " 2   Deatils     30758 non-null  object\n",
            " 3   Sizes       30758 non-null  object\n",
            " 4   MRP         30758 non-null  object\n",
            " 5   SellPrice   30758 non-null  object\n",
            " 6   Discount    30758 non-null  object\n",
            " 7   Category    30758 non-null  object\n",
            "dtypes: int64(1), object(7)\n",
            "memory usage: 1.9+ MB\n"
          ]
        }
      ],
      "source": [
        "data.info()"
      ]
    },
    {
      "cell_type": "markdown",
      "metadata": {
        "id": "tf_I5SdKuJwo"
      },
      "source": [
        "## Data Cleaning and Handling "
      ]
    },
    {
      "cell_type": "code",
      "execution_count": null,
      "metadata": {
        "id": "bkn-FycjKB3v",
        "colab": {
          "base_uri": "https://localhost:8080/"
        },
        "outputId": "788b359e-7a67-4ddb-cac2-f7ee5f738836"
      },
      "outputs": [
        {
          "output_type": "execute_result",
          "data": {
            "text/plain": [
              "Index(['Unnamed: 0', 'BrandName', 'Deatils', 'Sizes', 'MRP', 'SellPrice',\n",
              "       'Discount', 'Category'],\n",
              "      dtype='object')"
            ]
          },
          "metadata": {},
          "execution_count": 6
        }
      ],
      "source": [
        "data.columns"
      ]
    },
    {
      "cell_type": "code",
      "execution_count": null,
      "metadata": {
        "id": "n0sbhUSYKGhq"
      },
      "outputs": [],
      "source": [
        "data.drop(columns = [\"Unnamed: 0\"], inplace = True)"
      ]
    },
    {
      "cell_type": "code",
      "execution_count": null,
      "metadata": {
        "id": "geWyjb9IKLrO",
        "colab": {
          "base_uri": "https://localhost:8080/"
        },
        "outputId": "31b5ccac-a2b7-43cb-e105-fd3430518a4c"
      },
      "outputs": [
        {
          "output_type": "execute_result",
          "data": {
            "text/plain": [
              "Index(['BrandName', 'Deatils', 'Sizes', 'MRP', 'SellPrice', 'Discount',\n",
              "       'Category'],\n",
              "      dtype='object')"
            ]
          },
          "metadata": {},
          "execution_count": 8
        }
      ],
      "source": [
        "data.columns"
      ]
    },
    {
      "cell_type": "code",
      "execution_count": null,
      "metadata": {
        "id": "xqXiTVOFK3Cz",
        "colab": {
          "base_uri": "https://localhost:8080/",
          "height": 206
        },
        "outputId": "3163e68d-a9ce-4b13-9bc8-766fb39d529d"
      },
      "outputs": [
        {
          "output_type": "execute_result",
          "data": {
            "text/plain": [
              "     BrandName                                            Deatils  \\\n",
              "0         life  solid cotton blend collar neck womens a-line d...   \n",
              "1         only  polyester peter pan collar womens blouson dres...   \n",
              "2      fratini  solid polyester blend wide neck womens regular...   \n",
              "3  zink london  stripes polyester sweetheart neck womens dress...   \n",
              "4         life  regular fit regular length denim womens jeans ...   \n",
              "\n",
              "                                     Sizes       MRP SellPrice Discount  \\\n",
              "0  Size:Large,Medium,Small,X-Large,X-Small  Rs\\n1699       849  50% off   \n",
              "1                         Size:34,36,38,40  Rs\\n3499      2449  30% off   \n",
              "2              Size:Large,X-Large,XX-Large  Rs\\n1199       599  50% off   \n",
              "3          Size:Large,Medium,Small,X-Large  Rs\\n2299      1379  40% off   \n",
              "4                   Size:26,28,30,32,34,36  Rs\\n1699       849  50% off   \n",
              "\n",
              "            Category  \n",
              "0  Westernwear-Women  \n",
              "1  Westernwear-Women  \n",
              "2  Westernwear-Women  \n",
              "3  Westernwear-Women  \n",
              "4  Westernwear-Women  "
            ],
            "text/html": [
              "\n",
              "  <div id=\"df-025af276-f828-48f6-9712-2fb029af974d\">\n",
              "    <div class=\"colab-df-container\">\n",
              "      <div>\n",
              "<style scoped>\n",
              "    .dataframe tbody tr th:only-of-type {\n",
              "        vertical-align: middle;\n",
              "    }\n",
              "\n",
              "    .dataframe tbody tr th {\n",
              "        vertical-align: top;\n",
              "    }\n",
              "\n",
              "    .dataframe thead th {\n",
              "        text-align: right;\n",
              "    }\n",
              "</style>\n",
              "<table border=\"1\" class=\"dataframe\">\n",
              "  <thead>\n",
              "    <tr style=\"text-align: right;\">\n",
              "      <th></th>\n",
              "      <th>BrandName</th>\n",
              "      <th>Deatils</th>\n",
              "      <th>Sizes</th>\n",
              "      <th>MRP</th>\n",
              "      <th>SellPrice</th>\n",
              "      <th>Discount</th>\n",
              "      <th>Category</th>\n",
              "    </tr>\n",
              "  </thead>\n",
              "  <tbody>\n",
              "    <tr>\n",
              "      <th>0</th>\n",
              "      <td>life</td>\n",
              "      <td>solid cotton blend collar neck womens a-line d...</td>\n",
              "      <td>Size:Large,Medium,Small,X-Large,X-Small</td>\n",
              "      <td>Rs\\n1699</td>\n",
              "      <td>849</td>\n",
              "      <td>50% off</td>\n",
              "      <td>Westernwear-Women</td>\n",
              "    </tr>\n",
              "    <tr>\n",
              "      <th>1</th>\n",
              "      <td>only</td>\n",
              "      <td>polyester peter pan collar womens blouson dres...</td>\n",
              "      <td>Size:34,36,38,40</td>\n",
              "      <td>Rs\\n3499</td>\n",
              "      <td>2449</td>\n",
              "      <td>30% off</td>\n",
              "      <td>Westernwear-Women</td>\n",
              "    </tr>\n",
              "    <tr>\n",
              "      <th>2</th>\n",
              "      <td>fratini</td>\n",
              "      <td>solid polyester blend wide neck womens regular...</td>\n",
              "      <td>Size:Large,X-Large,XX-Large</td>\n",
              "      <td>Rs\\n1199</td>\n",
              "      <td>599</td>\n",
              "      <td>50% off</td>\n",
              "      <td>Westernwear-Women</td>\n",
              "    </tr>\n",
              "    <tr>\n",
              "      <th>3</th>\n",
              "      <td>zink london</td>\n",
              "      <td>stripes polyester sweetheart neck womens dress...</td>\n",
              "      <td>Size:Large,Medium,Small,X-Large</td>\n",
              "      <td>Rs\\n2299</td>\n",
              "      <td>1379</td>\n",
              "      <td>40% off</td>\n",
              "      <td>Westernwear-Women</td>\n",
              "    </tr>\n",
              "    <tr>\n",
              "      <th>4</th>\n",
              "      <td>life</td>\n",
              "      <td>regular fit regular length denim womens jeans ...</td>\n",
              "      <td>Size:26,28,30,32,34,36</td>\n",
              "      <td>Rs\\n1699</td>\n",
              "      <td>849</td>\n",
              "      <td>50% off</td>\n",
              "      <td>Westernwear-Women</td>\n",
              "    </tr>\n",
              "  </tbody>\n",
              "</table>\n",
              "</div>\n",
              "      <button class=\"colab-df-convert\" onclick=\"convertToInteractive('df-025af276-f828-48f6-9712-2fb029af974d')\"\n",
              "              title=\"Convert this dataframe to an interactive table.\"\n",
              "              style=\"display:none;\">\n",
              "        \n",
              "  <svg xmlns=\"http://www.w3.org/2000/svg\" height=\"24px\"viewBox=\"0 0 24 24\"\n",
              "       width=\"24px\">\n",
              "    <path d=\"M0 0h24v24H0V0z\" fill=\"none\"/>\n",
              "    <path d=\"M18.56 5.44l.94 2.06.94-2.06 2.06-.94-2.06-.94-.94-2.06-.94 2.06-2.06.94zm-11 1L8.5 8.5l.94-2.06 2.06-.94-2.06-.94L8.5 2.5l-.94 2.06-2.06.94zm10 10l.94 2.06.94-2.06 2.06-.94-2.06-.94-.94-2.06-.94 2.06-2.06.94z\"/><path d=\"M17.41 7.96l-1.37-1.37c-.4-.4-.92-.59-1.43-.59-.52 0-1.04.2-1.43.59L10.3 9.45l-7.72 7.72c-.78.78-.78 2.05 0 2.83L4 21.41c.39.39.9.59 1.41.59.51 0 1.02-.2 1.41-.59l7.78-7.78 2.81-2.81c.8-.78.8-2.07 0-2.86zM5.41 20L4 18.59l7.72-7.72 1.47 1.35L5.41 20z\"/>\n",
              "  </svg>\n",
              "      </button>\n",
              "      \n",
              "  <style>\n",
              "    .colab-df-container {\n",
              "      display:flex;\n",
              "      flex-wrap:wrap;\n",
              "      gap: 12px;\n",
              "    }\n",
              "\n",
              "    .colab-df-convert {\n",
              "      background-color: #E8F0FE;\n",
              "      border: none;\n",
              "      border-radius: 50%;\n",
              "      cursor: pointer;\n",
              "      display: none;\n",
              "      fill: #1967D2;\n",
              "      height: 32px;\n",
              "      padding: 0 0 0 0;\n",
              "      width: 32px;\n",
              "    }\n",
              "\n",
              "    .colab-df-convert:hover {\n",
              "      background-color: #E2EBFA;\n",
              "      box-shadow: 0px 1px 2px rgba(60, 64, 67, 0.3), 0px 1px 3px 1px rgba(60, 64, 67, 0.15);\n",
              "      fill: #174EA6;\n",
              "    }\n",
              "\n",
              "    [theme=dark] .colab-df-convert {\n",
              "      background-color: #3B4455;\n",
              "      fill: #D2E3FC;\n",
              "    }\n",
              "\n",
              "    [theme=dark] .colab-df-convert:hover {\n",
              "      background-color: #434B5C;\n",
              "      box-shadow: 0px 1px 3px 1px rgba(0, 0, 0, 0.15);\n",
              "      filter: drop-shadow(0px 1px 2px rgba(0, 0, 0, 0.3));\n",
              "      fill: #FFFFFF;\n",
              "    }\n",
              "  </style>\n",
              "\n",
              "      <script>\n",
              "        const buttonEl =\n",
              "          document.querySelector('#df-025af276-f828-48f6-9712-2fb029af974d button.colab-df-convert');\n",
              "        buttonEl.style.display =\n",
              "          google.colab.kernel.accessAllowed ? 'block' : 'none';\n",
              "\n",
              "        async function convertToInteractive(key) {\n",
              "          const element = document.querySelector('#df-025af276-f828-48f6-9712-2fb029af974d');\n",
              "          const dataTable =\n",
              "            await google.colab.kernel.invokeFunction('convertToInteractive',\n",
              "                                                     [key], {});\n",
              "          if (!dataTable) return;\n",
              "\n",
              "          const docLinkHtml = 'Like what you see? Visit the ' +\n",
              "            '<a target=\"_blank\" href=https://colab.research.google.com/notebooks/data_table.ipynb>data table notebook</a>'\n",
              "            + ' to learn more about interactive tables.';\n",
              "          element.innerHTML = '';\n",
              "          dataTable['output_type'] = 'display_data';\n",
              "          await google.colab.output.renderOutput(dataTable, element);\n",
              "          const docLink = document.createElement('div');\n",
              "          docLink.innerHTML = docLinkHtml;\n",
              "          element.appendChild(docLink);\n",
              "        }\n",
              "      </script>\n",
              "    </div>\n",
              "  </div>\n",
              "  "
            ]
          },
          "metadata": {},
          "execution_count": 9
        }
      ],
      "source": [
        "data.head()"
      ]
    },
    {
      "cell_type": "code",
      "execution_count": null,
      "metadata": {
        "id": "OerICIvhKNYY",
        "colab": {
          "base_uri": "https://localhost:8080/"
        },
        "outputId": "ceae138b-5e5e-4fd0-8bb9-7bf559ea8f6b"
      },
      "outputs": [
        {
          "output_type": "execute_result",
          "data": {
            "text/plain": [
              "(30758, 7)"
            ]
          },
          "metadata": {},
          "execution_count": 10
        }
      ],
      "source": [
        "data.shape"
      ]
    },
    {
      "cell_type": "code",
      "execution_count": null,
      "metadata": {
        "id": "BcIi2l6FKjYb",
        "colab": {
          "base_uri": "https://localhost:8080/"
        },
        "outputId": "608760f1-cfc2-4648-b627-e2f407327ddd"
      },
      "outputs": [
        {
          "output_type": "execute_result",
          "data": {
            "text/plain": [
              "BrandName    0\n",
              "Deatils      0\n",
              "Sizes        0\n",
              "MRP          0\n",
              "SellPrice    0\n",
              "Discount     0\n",
              "Category     0\n",
              "dtype: int64"
            ]
          },
          "metadata": {},
          "execution_count": 11
        }
      ],
      "source": [
        "data.isnull().sum()"
      ]
    },
    {
      "cell_type": "code",
      "execution_count": null,
      "metadata": {
        "id": "wc-Gv3LdK6cw",
        "colab": {
          "base_uri": "https://localhost:8080/"
        },
        "outputId": "8374c8ea-c0ee-4f3e-c2b1-337e38c46fa9"
      },
      "outputs": [
        {
          "output_type": "execute_result",
          "data": {
            "text/plain": [
              "BrandName      275\n",
              "Deatils      23877\n",
              "Sizes         1172\n",
              "MRP           1097\n",
              "SellPrice     2046\n",
              "Discount        66\n",
              "Category         7\n",
              "dtype: int64"
            ]
          },
          "metadata": {},
          "execution_count": 12
        }
      ],
      "source": [
        "data.nunique()"
      ]
    },
    {
      "cell_type": "code",
      "execution_count": null,
      "metadata": {
        "id": "O4pwXIYiM5YI"
      },
      "outputs": [],
      "source": [
        "data.replace(\"Nan\", np.nan, inplace = True)"
      ]
    },
    {
      "cell_type": "code",
      "execution_count": null,
      "metadata": {
        "id": "KJKRyXpEQW7k"
      },
      "outputs": [],
      "source": [
        "data.dropna(axis=0,inplace=True)"
      ]
    },
    {
      "cell_type": "code",
      "execution_count": null,
      "metadata": {
        "id": "MylcHWgmOMGo"
      },
      "outputs": [],
      "source": [
        "data['Sizes'] = data['Sizes'].str.replace('Size:', '')\n",
        "data['Category'] = data['Category'].str.replace('-Women', '')\n",
        "data['MRP'] = data['MRP'].str.replace('Rs\\n', '')\n",
        "data['Discount'] = data['Discount'].str.replace('% off', '')"
      ]
    },
    {
      "cell_type": "code",
      "execution_count": null,
      "metadata": {
        "id": "LK480cRbQaWe"
      },
      "outputs": [],
      "source": [
        "data['MRP'] = data['MRP'].astype(int)\n",
        "data['Discount'] = data['Discount'].astype(int)\n",
        "data['SellPrice'] = data['SellPrice'].astype(int)"
      ]
    },
    {
      "cell_type": "code",
      "execution_count": null,
      "metadata": {
        "id": "D5GCJXSCQ5qp",
        "colab": {
          "base_uri": "https://localhost:8080/"
        },
        "outputId": "f546e810-e769-49d8-9b45-f027cd23cfdf"
      },
      "outputs": [
        {
          "output_type": "execute_result",
          "data": {
            "text/plain": [
              "(18374, 7)"
            ]
          },
          "metadata": {},
          "execution_count": 17
        }
      ],
      "source": [
        "data.shape"
      ]
    },
    {
      "cell_type": "code",
      "execution_count": null,
      "metadata": {
        "id": "_G9Dm_jvQpnR",
        "colab": {
          "base_uri": "https://localhost:8080/",
          "height": 449
        },
        "outputId": "147c1bcf-f310-4e0d-d0b7-6000da5dde94"
      },
      "outputs": [
        {
          "output_type": "stream",
          "name": "stdout",
          "text": [
            "<class 'pandas.core.frame.DataFrame'>\n",
            "Int64Index: 18374 entries, 0 to 28418\n",
            "Data columns (total 7 columns):\n",
            " #   Column     Non-Null Count  Dtype \n",
            "---  ------     --------------  ----- \n",
            " 0   BrandName  18374 non-null  object\n",
            " 1   Deatils    18374 non-null  object\n",
            " 2   Sizes      18374 non-null  object\n",
            " 3   MRP        18374 non-null  int64 \n",
            " 4   SellPrice  18374 non-null  int64 \n",
            " 5   Discount   18374 non-null  int64 \n",
            " 6   Category   18374 non-null  object\n",
            "dtypes: int64(3), object(4)\n",
            "memory usage: 1.1+ MB\n"
          ]
        },
        {
          "output_type": "execute_result",
          "data": {
            "text/plain": [
              "     BrandName                                            Deatils  \\\n",
              "0         life  solid cotton blend collar neck womens a-line d...   \n",
              "1         only  polyester peter pan collar womens blouson dres...   \n",
              "2      fratini  solid polyester blend wide neck womens regular...   \n",
              "3  zink london  stripes polyester sweetheart neck womens dress...   \n",
              "4         life  regular fit regular length denim womens jeans ...   \n",
              "\n",
              "                                Sizes   MRP  SellPrice  Discount     Category  \n",
              "0  Large,Medium,Small,X-Large,X-Small  1699        849        50  Westernwear  \n",
              "1                         34,36,38,40  3499       2449        30  Westernwear  \n",
              "2              Large,X-Large,XX-Large  1199        599        50  Westernwear  \n",
              "3          Large,Medium,Small,X-Large  2299       1379        40  Westernwear  \n",
              "4                   26,28,30,32,34,36  1699        849        50  Westernwear  "
            ],
            "text/html": [
              "\n",
              "  <div id=\"df-3d6a1eec-c8b8-4290-b881-cd62cf56531b\">\n",
              "    <div class=\"colab-df-container\">\n",
              "      <div>\n",
              "<style scoped>\n",
              "    .dataframe tbody tr th:only-of-type {\n",
              "        vertical-align: middle;\n",
              "    }\n",
              "\n",
              "    .dataframe tbody tr th {\n",
              "        vertical-align: top;\n",
              "    }\n",
              "\n",
              "    .dataframe thead th {\n",
              "        text-align: right;\n",
              "    }\n",
              "</style>\n",
              "<table border=\"1\" class=\"dataframe\">\n",
              "  <thead>\n",
              "    <tr style=\"text-align: right;\">\n",
              "      <th></th>\n",
              "      <th>BrandName</th>\n",
              "      <th>Deatils</th>\n",
              "      <th>Sizes</th>\n",
              "      <th>MRP</th>\n",
              "      <th>SellPrice</th>\n",
              "      <th>Discount</th>\n",
              "      <th>Category</th>\n",
              "    </tr>\n",
              "  </thead>\n",
              "  <tbody>\n",
              "    <tr>\n",
              "      <th>0</th>\n",
              "      <td>life</td>\n",
              "      <td>solid cotton blend collar neck womens a-line d...</td>\n",
              "      <td>Large,Medium,Small,X-Large,X-Small</td>\n",
              "      <td>1699</td>\n",
              "      <td>849</td>\n",
              "      <td>50</td>\n",
              "      <td>Westernwear</td>\n",
              "    </tr>\n",
              "    <tr>\n",
              "      <th>1</th>\n",
              "      <td>only</td>\n",
              "      <td>polyester peter pan collar womens blouson dres...</td>\n",
              "      <td>34,36,38,40</td>\n",
              "      <td>3499</td>\n",
              "      <td>2449</td>\n",
              "      <td>30</td>\n",
              "      <td>Westernwear</td>\n",
              "    </tr>\n",
              "    <tr>\n",
              "      <th>2</th>\n",
              "      <td>fratini</td>\n",
              "      <td>solid polyester blend wide neck womens regular...</td>\n",
              "      <td>Large,X-Large,XX-Large</td>\n",
              "      <td>1199</td>\n",
              "      <td>599</td>\n",
              "      <td>50</td>\n",
              "      <td>Westernwear</td>\n",
              "    </tr>\n",
              "    <tr>\n",
              "      <th>3</th>\n",
              "      <td>zink london</td>\n",
              "      <td>stripes polyester sweetheart neck womens dress...</td>\n",
              "      <td>Large,Medium,Small,X-Large</td>\n",
              "      <td>2299</td>\n",
              "      <td>1379</td>\n",
              "      <td>40</td>\n",
              "      <td>Westernwear</td>\n",
              "    </tr>\n",
              "    <tr>\n",
              "      <th>4</th>\n",
              "      <td>life</td>\n",
              "      <td>regular fit regular length denim womens jeans ...</td>\n",
              "      <td>26,28,30,32,34,36</td>\n",
              "      <td>1699</td>\n",
              "      <td>849</td>\n",
              "      <td>50</td>\n",
              "      <td>Westernwear</td>\n",
              "    </tr>\n",
              "  </tbody>\n",
              "</table>\n",
              "</div>\n",
              "      <button class=\"colab-df-convert\" onclick=\"convertToInteractive('df-3d6a1eec-c8b8-4290-b881-cd62cf56531b')\"\n",
              "              title=\"Convert this dataframe to an interactive table.\"\n",
              "              style=\"display:none;\">\n",
              "        \n",
              "  <svg xmlns=\"http://www.w3.org/2000/svg\" height=\"24px\"viewBox=\"0 0 24 24\"\n",
              "       width=\"24px\">\n",
              "    <path d=\"M0 0h24v24H0V0z\" fill=\"none\"/>\n",
              "    <path d=\"M18.56 5.44l.94 2.06.94-2.06 2.06-.94-2.06-.94-.94-2.06-.94 2.06-2.06.94zm-11 1L8.5 8.5l.94-2.06 2.06-.94-2.06-.94L8.5 2.5l-.94 2.06-2.06.94zm10 10l.94 2.06.94-2.06 2.06-.94-2.06-.94-.94-2.06-.94 2.06-2.06.94z\"/><path d=\"M17.41 7.96l-1.37-1.37c-.4-.4-.92-.59-1.43-.59-.52 0-1.04.2-1.43.59L10.3 9.45l-7.72 7.72c-.78.78-.78 2.05 0 2.83L4 21.41c.39.39.9.59 1.41.59.51 0 1.02-.2 1.41-.59l7.78-7.78 2.81-2.81c.8-.78.8-2.07 0-2.86zM5.41 20L4 18.59l7.72-7.72 1.47 1.35L5.41 20z\"/>\n",
              "  </svg>\n",
              "      </button>\n",
              "      \n",
              "  <style>\n",
              "    .colab-df-container {\n",
              "      display:flex;\n",
              "      flex-wrap:wrap;\n",
              "      gap: 12px;\n",
              "    }\n",
              "\n",
              "    .colab-df-convert {\n",
              "      background-color: #E8F0FE;\n",
              "      border: none;\n",
              "      border-radius: 50%;\n",
              "      cursor: pointer;\n",
              "      display: none;\n",
              "      fill: #1967D2;\n",
              "      height: 32px;\n",
              "      padding: 0 0 0 0;\n",
              "      width: 32px;\n",
              "    }\n",
              "\n",
              "    .colab-df-convert:hover {\n",
              "      background-color: #E2EBFA;\n",
              "      box-shadow: 0px 1px 2px rgba(60, 64, 67, 0.3), 0px 1px 3px 1px rgba(60, 64, 67, 0.15);\n",
              "      fill: #174EA6;\n",
              "    }\n",
              "\n",
              "    [theme=dark] .colab-df-convert {\n",
              "      background-color: #3B4455;\n",
              "      fill: #D2E3FC;\n",
              "    }\n",
              "\n",
              "    [theme=dark] .colab-df-convert:hover {\n",
              "      background-color: #434B5C;\n",
              "      box-shadow: 0px 1px 3px 1px rgba(0, 0, 0, 0.15);\n",
              "      filter: drop-shadow(0px 1px 2px rgba(0, 0, 0, 0.3));\n",
              "      fill: #FFFFFF;\n",
              "    }\n",
              "  </style>\n",
              "\n",
              "      <script>\n",
              "        const buttonEl =\n",
              "          document.querySelector('#df-3d6a1eec-c8b8-4290-b881-cd62cf56531b button.colab-df-convert');\n",
              "        buttonEl.style.display =\n",
              "          google.colab.kernel.accessAllowed ? 'block' : 'none';\n",
              "\n",
              "        async function convertToInteractive(key) {\n",
              "          const element = document.querySelector('#df-3d6a1eec-c8b8-4290-b881-cd62cf56531b');\n",
              "          const dataTable =\n",
              "            await google.colab.kernel.invokeFunction('convertToInteractive',\n",
              "                                                     [key], {});\n",
              "          if (!dataTable) return;\n",
              "\n",
              "          const docLinkHtml = 'Like what you see? Visit the ' +\n",
              "            '<a target=\"_blank\" href=https://colab.research.google.com/notebooks/data_table.ipynb>data table notebook</a>'\n",
              "            + ' to learn more about interactive tables.';\n",
              "          element.innerHTML = '';\n",
              "          dataTable['output_type'] = 'display_data';\n",
              "          await google.colab.output.renderOutput(dataTable, element);\n",
              "          const docLink = document.createElement('div');\n",
              "          docLink.innerHTML = docLinkHtml;\n",
              "          element.appendChild(docLink);\n",
              "        }\n",
              "      </script>\n",
              "    </div>\n",
              "  </div>\n",
              "  "
            ]
          },
          "metadata": {},
          "execution_count": 18
        }
      ],
      "source": [
        "data.info()\n",
        "data.head()"
      ]
    },
    {
      "cell_type": "code",
      "execution_count": null,
      "metadata": {
        "id": "7QZpKXg4SWhN",
        "colab": {
          "base_uri": "https://localhost:8080/",
          "height": 206
        },
        "outputId": "37f2ccc9-9dc8-4fd3-8674-5a564c90fa91"
      },
      "outputs": [
        {
          "output_type": "execute_result",
          "data": {
            "text/plain": [
              "     BrandName                                            Deatils  \\\n",
              "0         life  solid cotton blend collar neck womens a-line d...   \n",
              "1         only  polyester peter pan collar womens blouson dres...   \n",
              "2      fratini  solid polyester blend wide neck womens regular...   \n",
              "3  zink london  stripes polyester sweetheart neck womens dress...   \n",
              "4         life  regular fit regular length denim womens jeans ...   \n",
              "\n",
              "                                Sizes   MRP  SellPrice  Discount     Category  \\\n",
              "0  Large,Medium,Small,X-Large,X-Small  1699        849        50  Westernwear   \n",
              "1                         34,36,38,40  3499       2449        30  Westernwear   \n",
              "2              Large,X-Large,XX-Large  1199        599        50  Westernwear   \n",
              "3          Large,Medium,Small,X-Large  2299       1379        40  Westernwear   \n",
              "4                   26,28,30,32,34,36  1699        849        50  Westernwear   \n",
              "\n",
              "   BrandCount  \n",
              "0         554  \n",
              "1         376  \n",
              "2         204  \n",
              "3         917  \n",
              "4         554  "
            ],
            "text/html": [
              "\n",
              "  <div id=\"df-28d5cc6e-7d0e-4c68-9fbd-cf3e926419ec\">\n",
              "    <div class=\"colab-df-container\">\n",
              "      <div>\n",
              "<style scoped>\n",
              "    .dataframe tbody tr th:only-of-type {\n",
              "        vertical-align: middle;\n",
              "    }\n",
              "\n",
              "    .dataframe tbody tr th {\n",
              "        vertical-align: top;\n",
              "    }\n",
              "\n",
              "    .dataframe thead th {\n",
              "        text-align: right;\n",
              "    }\n",
              "</style>\n",
              "<table border=\"1\" class=\"dataframe\">\n",
              "  <thead>\n",
              "    <tr style=\"text-align: right;\">\n",
              "      <th></th>\n",
              "      <th>BrandName</th>\n",
              "      <th>Deatils</th>\n",
              "      <th>Sizes</th>\n",
              "      <th>MRP</th>\n",
              "      <th>SellPrice</th>\n",
              "      <th>Discount</th>\n",
              "      <th>Category</th>\n",
              "      <th>BrandCount</th>\n",
              "    </tr>\n",
              "  </thead>\n",
              "  <tbody>\n",
              "    <tr>\n",
              "      <th>0</th>\n",
              "      <td>life</td>\n",
              "      <td>solid cotton blend collar neck womens a-line d...</td>\n",
              "      <td>Large,Medium,Small,X-Large,X-Small</td>\n",
              "      <td>1699</td>\n",
              "      <td>849</td>\n",
              "      <td>50</td>\n",
              "      <td>Westernwear</td>\n",
              "      <td>554</td>\n",
              "    </tr>\n",
              "    <tr>\n",
              "      <th>1</th>\n",
              "      <td>only</td>\n",
              "      <td>polyester peter pan collar womens blouson dres...</td>\n",
              "      <td>34,36,38,40</td>\n",
              "      <td>3499</td>\n",
              "      <td>2449</td>\n",
              "      <td>30</td>\n",
              "      <td>Westernwear</td>\n",
              "      <td>376</td>\n",
              "    </tr>\n",
              "    <tr>\n",
              "      <th>2</th>\n",
              "      <td>fratini</td>\n",
              "      <td>solid polyester blend wide neck womens regular...</td>\n",
              "      <td>Large,X-Large,XX-Large</td>\n",
              "      <td>1199</td>\n",
              "      <td>599</td>\n",
              "      <td>50</td>\n",
              "      <td>Westernwear</td>\n",
              "      <td>204</td>\n",
              "    </tr>\n",
              "    <tr>\n",
              "      <th>3</th>\n",
              "      <td>zink london</td>\n",
              "      <td>stripes polyester sweetheart neck womens dress...</td>\n",
              "      <td>Large,Medium,Small,X-Large</td>\n",
              "      <td>2299</td>\n",
              "      <td>1379</td>\n",
              "      <td>40</td>\n",
              "      <td>Westernwear</td>\n",
              "      <td>917</td>\n",
              "    </tr>\n",
              "    <tr>\n",
              "      <th>4</th>\n",
              "      <td>life</td>\n",
              "      <td>regular fit regular length denim womens jeans ...</td>\n",
              "      <td>26,28,30,32,34,36</td>\n",
              "      <td>1699</td>\n",
              "      <td>849</td>\n",
              "      <td>50</td>\n",
              "      <td>Westernwear</td>\n",
              "      <td>554</td>\n",
              "    </tr>\n",
              "  </tbody>\n",
              "</table>\n",
              "</div>\n",
              "      <button class=\"colab-df-convert\" onclick=\"convertToInteractive('df-28d5cc6e-7d0e-4c68-9fbd-cf3e926419ec')\"\n",
              "              title=\"Convert this dataframe to an interactive table.\"\n",
              "              style=\"display:none;\">\n",
              "        \n",
              "  <svg xmlns=\"http://www.w3.org/2000/svg\" height=\"24px\"viewBox=\"0 0 24 24\"\n",
              "       width=\"24px\">\n",
              "    <path d=\"M0 0h24v24H0V0z\" fill=\"none\"/>\n",
              "    <path d=\"M18.56 5.44l.94 2.06.94-2.06 2.06-.94-2.06-.94-.94-2.06-.94 2.06-2.06.94zm-11 1L8.5 8.5l.94-2.06 2.06-.94-2.06-.94L8.5 2.5l-.94 2.06-2.06.94zm10 10l.94 2.06.94-2.06 2.06-.94-2.06-.94-.94-2.06-.94 2.06-2.06.94z\"/><path d=\"M17.41 7.96l-1.37-1.37c-.4-.4-.92-.59-1.43-.59-.52 0-1.04.2-1.43.59L10.3 9.45l-7.72 7.72c-.78.78-.78 2.05 0 2.83L4 21.41c.39.39.9.59 1.41.59.51 0 1.02-.2 1.41-.59l7.78-7.78 2.81-2.81c.8-.78.8-2.07 0-2.86zM5.41 20L4 18.59l7.72-7.72 1.47 1.35L5.41 20z\"/>\n",
              "  </svg>\n",
              "      </button>\n",
              "      \n",
              "  <style>\n",
              "    .colab-df-container {\n",
              "      display:flex;\n",
              "      flex-wrap:wrap;\n",
              "      gap: 12px;\n",
              "    }\n",
              "\n",
              "    .colab-df-convert {\n",
              "      background-color: #E8F0FE;\n",
              "      border: none;\n",
              "      border-radius: 50%;\n",
              "      cursor: pointer;\n",
              "      display: none;\n",
              "      fill: #1967D2;\n",
              "      height: 32px;\n",
              "      padding: 0 0 0 0;\n",
              "      width: 32px;\n",
              "    }\n",
              "\n",
              "    .colab-df-convert:hover {\n",
              "      background-color: #E2EBFA;\n",
              "      box-shadow: 0px 1px 2px rgba(60, 64, 67, 0.3), 0px 1px 3px 1px rgba(60, 64, 67, 0.15);\n",
              "      fill: #174EA6;\n",
              "    }\n",
              "\n",
              "    [theme=dark] .colab-df-convert {\n",
              "      background-color: #3B4455;\n",
              "      fill: #D2E3FC;\n",
              "    }\n",
              "\n",
              "    [theme=dark] .colab-df-convert:hover {\n",
              "      background-color: #434B5C;\n",
              "      box-shadow: 0px 1px 3px 1px rgba(0, 0, 0, 0.15);\n",
              "      filter: drop-shadow(0px 1px 2px rgba(0, 0, 0, 0.3));\n",
              "      fill: #FFFFFF;\n",
              "    }\n",
              "  </style>\n",
              "\n",
              "      <script>\n",
              "        const buttonEl =\n",
              "          document.querySelector('#df-28d5cc6e-7d0e-4c68-9fbd-cf3e926419ec button.colab-df-convert');\n",
              "        buttonEl.style.display =\n",
              "          google.colab.kernel.accessAllowed ? 'block' : 'none';\n",
              "\n",
              "        async function convertToInteractive(key) {\n",
              "          const element = document.querySelector('#df-28d5cc6e-7d0e-4c68-9fbd-cf3e926419ec');\n",
              "          const dataTable =\n",
              "            await google.colab.kernel.invokeFunction('convertToInteractive',\n",
              "                                                     [key], {});\n",
              "          if (!dataTable) return;\n",
              "\n",
              "          const docLinkHtml = 'Like what you see? Visit the ' +\n",
              "            '<a target=\"_blank\" href=https://colab.research.google.com/notebooks/data_table.ipynb>data table notebook</a>'\n",
              "            + ' to learn more about interactive tables.';\n",
              "          element.innerHTML = '';\n",
              "          dataTable['output_type'] = 'display_data';\n",
              "          await google.colab.output.renderOutput(dataTable, element);\n",
              "          const docLink = document.createElement('div');\n",
              "          docLink.innerHTML = docLinkHtml;\n",
              "          element.appendChild(docLink);\n",
              "        }\n",
              "      </script>\n",
              "    </div>\n",
              "  </div>\n",
              "  "
            ]
          },
          "metadata": {},
          "execution_count": 19
        }
      ],
      "source": [
        "count = data['BrandName'].value_counts()\n",
        "data['BrandCount'] = data['BrandName'].apply(lambda i: count[i])\n",
        "data.head()"
      ]
    },
    {
      "cell_type": "code",
      "execution_count": null,
      "metadata": {
        "id": "zWKQEGGEY491",
        "colab": {
          "base_uri": "https://localhost:8080/",
          "height": 175
        },
        "outputId": "d18661f2-0d92-476a-a4a1-37d45a17f999"
      },
      "outputs": [
        {
          "output_type": "execute_result",
          "data": {
            "text/plain": [
              "           count unique                                      top  freq\n",
              "BrandName  18374    105                              zink london   917\n",
              "Deatils    18374  15456  synthetic womens casual sandals - black    36\n",
              "Sizes      18374    936       Large,Medium,Small,X-Large,X-Small  1754\n",
              "Category   18374      5                              Westernwear  8221"
            ],
            "text/html": [
              "\n",
              "  <div id=\"df-a2d2b9b9-a944-483a-8377-673c069430dc\">\n",
              "    <div class=\"colab-df-container\">\n",
              "      <div>\n",
              "<style scoped>\n",
              "    .dataframe tbody tr th:only-of-type {\n",
              "        vertical-align: middle;\n",
              "    }\n",
              "\n",
              "    .dataframe tbody tr th {\n",
              "        vertical-align: top;\n",
              "    }\n",
              "\n",
              "    .dataframe thead th {\n",
              "        text-align: right;\n",
              "    }\n",
              "</style>\n",
              "<table border=\"1\" class=\"dataframe\">\n",
              "  <thead>\n",
              "    <tr style=\"text-align: right;\">\n",
              "      <th></th>\n",
              "      <th>count</th>\n",
              "      <th>unique</th>\n",
              "      <th>top</th>\n",
              "      <th>freq</th>\n",
              "    </tr>\n",
              "  </thead>\n",
              "  <tbody>\n",
              "    <tr>\n",
              "      <th>BrandName</th>\n",
              "      <td>18374</td>\n",
              "      <td>105</td>\n",
              "      <td>zink london</td>\n",
              "      <td>917</td>\n",
              "    </tr>\n",
              "    <tr>\n",
              "      <th>Deatils</th>\n",
              "      <td>18374</td>\n",
              "      <td>15456</td>\n",
              "      <td>synthetic womens casual sandals - black</td>\n",
              "      <td>36</td>\n",
              "    </tr>\n",
              "    <tr>\n",
              "      <th>Sizes</th>\n",
              "      <td>18374</td>\n",
              "      <td>936</td>\n",
              "      <td>Large,Medium,Small,X-Large,X-Small</td>\n",
              "      <td>1754</td>\n",
              "    </tr>\n",
              "    <tr>\n",
              "      <th>Category</th>\n",
              "      <td>18374</td>\n",
              "      <td>5</td>\n",
              "      <td>Westernwear</td>\n",
              "      <td>8221</td>\n",
              "    </tr>\n",
              "  </tbody>\n",
              "</table>\n",
              "</div>\n",
              "      <button class=\"colab-df-convert\" onclick=\"convertToInteractive('df-a2d2b9b9-a944-483a-8377-673c069430dc')\"\n",
              "              title=\"Convert this dataframe to an interactive table.\"\n",
              "              style=\"display:none;\">\n",
              "        \n",
              "  <svg xmlns=\"http://www.w3.org/2000/svg\" height=\"24px\"viewBox=\"0 0 24 24\"\n",
              "       width=\"24px\">\n",
              "    <path d=\"M0 0h24v24H0V0z\" fill=\"none\"/>\n",
              "    <path d=\"M18.56 5.44l.94 2.06.94-2.06 2.06-.94-2.06-.94-.94-2.06-.94 2.06-2.06.94zm-11 1L8.5 8.5l.94-2.06 2.06-.94-2.06-.94L8.5 2.5l-.94 2.06-2.06.94zm10 10l.94 2.06.94-2.06 2.06-.94-2.06-.94-.94-2.06-.94 2.06-2.06.94z\"/><path d=\"M17.41 7.96l-1.37-1.37c-.4-.4-.92-.59-1.43-.59-.52 0-1.04.2-1.43.59L10.3 9.45l-7.72 7.72c-.78.78-.78 2.05 0 2.83L4 21.41c.39.39.9.59 1.41.59.51 0 1.02-.2 1.41-.59l7.78-7.78 2.81-2.81c.8-.78.8-2.07 0-2.86zM5.41 20L4 18.59l7.72-7.72 1.47 1.35L5.41 20z\"/>\n",
              "  </svg>\n",
              "      </button>\n",
              "      \n",
              "  <style>\n",
              "    .colab-df-container {\n",
              "      display:flex;\n",
              "      flex-wrap:wrap;\n",
              "      gap: 12px;\n",
              "    }\n",
              "\n",
              "    .colab-df-convert {\n",
              "      background-color: #E8F0FE;\n",
              "      border: none;\n",
              "      border-radius: 50%;\n",
              "      cursor: pointer;\n",
              "      display: none;\n",
              "      fill: #1967D2;\n",
              "      height: 32px;\n",
              "      padding: 0 0 0 0;\n",
              "      width: 32px;\n",
              "    }\n",
              "\n",
              "    .colab-df-convert:hover {\n",
              "      background-color: #E2EBFA;\n",
              "      box-shadow: 0px 1px 2px rgba(60, 64, 67, 0.3), 0px 1px 3px 1px rgba(60, 64, 67, 0.15);\n",
              "      fill: #174EA6;\n",
              "    }\n",
              "\n",
              "    [theme=dark] .colab-df-convert {\n",
              "      background-color: #3B4455;\n",
              "      fill: #D2E3FC;\n",
              "    }\n",
              "\n",
              "    [theme=dark] .colab-df-convert:hover {\n",
              "      background-color: #434B5C;\n",
              "      box-shadow: 0px 1px 3px 1px rgba(0, 0, 0, 0.15);\n",
              "      filter: drop-shadow(0px 1px 2px rgba(0, 0, 0, 0.3));\n",
              "      fill: #FFFFFF;\n",
              "    }\n",
              "  </style>\n",
              "\n",
              "      <script>\n",
              "        const buttonEl =\n",
              "          document.querySelector('#df-a2d2b9b9-a944-483a-8377-673c069430dc button.colab-df-convert');\n",
              "        buttonEl.style.display =\n",
              "          google.colab.kernel.accessAllowed ? 'block' : 'none';\n",
              "\n",
              "        async function convertToInteractive(key) {\n",
              "          const element = document.querySelector('#df-a2d2b9b9-a944-483a-8377-673c069430dc');\n",
              "          const dataTable =\n",
              "            await google.colab.kernel.invokeFunction('convertToInteractive',\n",
              "                                                     [key], {});\n",
              "          if (!dataTable) return;\n",
              "\n",
              "          const docLinkHtml = 'Like what you see? Visit the ' +\n",
              "            '<a target=\"_blank\" href=https://colab.research.google.com/notebooks/data_table.ipynb>data table notebook</a>'\n",
              "            + ' to learn more about interactive tables.';\n",
              "          element.innerHTML = '';\n",
              "          dataTable['output_type'] = 'display_data';\n",
              "          await google.colab.output.renderOutput(dataTable, element);\n",
              "          const docLink = document.createElement('div');\n",
              "          docLink.innerHTML = docLinkHtml;\n",
              "          element.appendChild(docLink);\n",
              "        }\n",
              "      </script>\n",
              "    </div>\n",
              "  </div>\n",
              "  "
            ]
          },
          "metadata": {},
          "execution_count": 20
        }
      ],
      "source": [
        "data.describe(include=object).T"
      ]
    },
    {
      "cell_type": "code",
      "execution_count": null,
      "metadata": {
        "id": "Ib5LylxXehiU",
        "colab": {
          "base_uri": "https://localhost:8080/",
          "height": 286
        },
        "outputId": "e9f4efa2-80fa-4612-ae7f-cfde53cb7113"
      },
      "outputs": [
        {
          "output_type": "execute_result",
          "data": {
            "text/plain": [
              "<matplotlib.axes._subplots.AxesSubplot at 0x7fe15d6b3fd0>"
            ]
          },
          "metadata": {},
          "execution_count": 21
        },
        {
          "output_type": "display_data",
          "data": {
            "text/plain": [
              "<Figure size 432x288 with 2 Axes>"
            ],
            "image/png": "[encoded data removed]"
          },
          "metadata": {
            "needs_background": "light"
          }
        }
      ],
      "source": [
        "sns.heatmap(data.corr(),annot=True,cmap='coolwarm',linewidths=0.2)"
      ]
    },
    {
      "cell_type": "code",
      "execution_count": null,
      "metadata": {
        "id": "OQa_6SAhiEOw",
        "colab": {
          "base_uri": "https://localhost:8080/",
          "height": 248
        },
        "outputId": "396a5f69-008c-4516-af72-2e0208a6e343"
      },
      "outputs": [
        {
          "output_type": "display_data",
          "data": {
            "text/plain": [
              "<Figure size 432x288 with 1 Axes>"
            ],
            "image/png": "[encoded data removed]"
          },
          "metadata": {}
        }
      ],
      "source": [
        "max = data['Category'].value_counts()\n",
        "labels = data['Category'].value_counts().index\n",
        "colors = sns.color_palette('pastel')[0:5]\n",
        "plt.pie(max, labels = labels, colors = colors, autopct='%.0f%%')\n",
        "plt.show()"
      ]
    },
    {
      "cell_type": "code",
      "execution_count": null,
      "metadata": {
        "id": "quJsLvZFYF3b",
        "colab": {
          "base_uri": "https://localhost:8080/",
          "height": 1000
        },
        "outputId": "0666c7aa-0116-4111-c347-e063e81aeaa3"
      },
      "outputs": [
        {
          "output_type": "execute_result",
          "data": {
            "text/plain": [
              "array([[<matplotlib.axes._subplots.AxesSubplot object at 0x7fe15d60f1d0>,\n",
              "        <matplotlib.axes._subplots.AxesSubplot object at 0x7fe15d604550>,\n",
              "        <matplotlib.axes._subplots.AxesSubplot object at 0x7fe15d5df810>,\n",
              "        <matplotlib.axes._subplots.AxesSubplot object at 0x7fe15d595e10>],\n",
              "       [<matplotlib.axes._subplots.AxesSubplot object at 0x7fe15d55a450>,\n",
              "        <matplotlib.axes._subplots.AxesSubplot object at 0x7fe15a841a50>,\n",
              "        <matplotlib.axes._subplots.AxesSubplot object at 0x7fe15a7eeb50>,\n",
              "        <matplotlib.axes._subplots.AxesSubplot object at 0x7fe15a7bd650>],\n",
              "       [<matplotlib.axes._subplots.AxesSubplot object at 0x7fe15a7bd690>,\n",
              "        <matplotlib.axes._subplots.AxesSubplot object at 0x7fe15a774d90>,\n",
              "        <matplotlib.axes._subplots.AxesSubplot object at 0x7fe15a6ec8d0>,\n",
              "        <matplotlib.axes._subplots.AxesSubplot object at 0x7fe15a725ed0>],\n",
              "       [<matplotlib.axes._subplots.AxesSubplot object at 0x7fe15a669510>,\n",
              "        <matplotlib.axes._subplots.AxesSubplot object at 0x7fe15a6a1b10>,\n",
              "        <matplotlib.axes._subplots.AxesSubplot object at 0x7fe15a664150>,\n",
              "        <matplotlib.axes._subplots.AxesSubplot object at 0x7fe15a61a750>]],\n",
              "      dtype=object)"
            ]
          },
          "metadata": {},
          "execution_count": 23
        },
        {
          "output_type": "display_data",
          "data": {
            "text/plain": [
              "<Figure size 864x864 with 16 Axes>"
            ],
            "image/png": "[encoded data removed]"
          },
          "metadata": {
            "needs_background": "light"
          }
        }
      ],
      "source": [
        "from pandas.plotting import scatter_matrix\n",
        "\n",
        "scatter_matrix(data, figsize = (12, 12), alpha = 0.5)"
      ]
    },
    {
      "cell_type": "code",
      "execution_count": null,
      "metadata": {
        "id": "MZPUOJ1Rd03y",
        "colab": {
          "base_uri": "https://localhost:8080/",
          "height": 351
        },
        "outputId": "77ea8e96-8d4c-468c-c365-602e9d5c415d"
      },
      "outputs": [
        {
          "output_type": "stream",
          "name": "stderr",
          "text": [
            "/usr/local/lib/python3.7/dist-packages/seaborn/_decorators.py:43: FutureWarning: Pass the following variables as keyword args: x, y. From version 0.12, the only valid positional argument will be `data`, and passing other arguments without an explicit keyword will result in an error or misinterpretation.\n",
            "  FutureWarning\n"
          ]
        },
        {
          "output_type": "execute_result",
          "data": {
            "text/plain": [
              "<matplotlib.axes._subplots.AxesSubplot at 0x7fe15a3de4d0>"
            ]
          },
          "metadata": {},
          "execution_count": 24
        },
        {
          "output_type": "display_data",
          "data": {
            "text/plain": [
              "<Figure size 432x288 with 1 Axes>"
            ],
            "image/png": "[encoded data removed]"
          },
          "metadata": {
            "needs_background": "light"
          }
        }
      ],
      "source": [
        "sns.scatterplot(data['MRP'], data['SellPrice'], hue = data['Category'])"
      ]
    },
    {
      "cell_type": "code",
      "execution_count": null,
      "metadata": {
        "id": "C1V7mcNLNoJv",
        "colab": {
          "base_uri": "https://localhost:8080/"
        },
        "outputId": "e9acb2a0-ba94-4d90-8bca-14b442ecc6bd"
      },
      "outputs": [
        {
          "output_type": "execute_result",
          "data": {
            "text/plain": [
              "count    18374.000000\n",
              "mean      2136.928704\n",
              "std       1189.416850\n",
              "min        171.000000\n",
              "25%       1299.000000\n",
              "50%       1899.000000\n",
              "75%       2663.000000\n",
              "max      16999.000000\n",
              "Name: MRP, dtype: float64"
            ]
          },
          "metadata": {},
          "execution_count": 25
        }
      ],
      "source": [
        "data['MRP'].describe()"
      ]
    },
    {
      "cell_type": "code",
      "execution_count": null,
      "metadata": {
        "id": "oKTWUmwhOVJN",
        "colab": {
          "base_uri": "https://localhost:8080/"
        },
        "outputId": "9ef8546a-55e0-4786-9887-fdbc1651c7ce"
      },
      "outputs": [
        {
          "output_type": "execute_result",
          "data": {
            "text/plain": [
              "count    18374.000000\n",
              "mean      1163.798846\n",
              "std        744.201506\n",
              "min        114.000000\n",
              "25%        659.000000\n",
              "50%        995.000000\n",
              "75%       1469.000000\n",
              "max      13599.000000\n",
              "Name: SellPrice, dtype: float64"
            ]
          },
          "metadata": {},
          "execution_count": 26
        }
      ],
      "source": [
        "data['SellPrice'].describe()"
      ]
    },
    {
      "cell_type": "code",
      "execution_count": null,
      "metadata": {
        "id": "mHZNxgV_OYjX",
        "colab": {
          "base_uri": "https://localhost:8080/"
        },
        "outputId": "3419d70a-7f9b-482c-afa7-37054397ff04"
      },
      "outputs": [
        {
          "output_type": "execute_result",
          "data": {
            "text/plain": [
              "count    18374.000000\n",
              "mean       396.483945\n",
              "std        236.173793\n",
              "min          1.000000\n",
              "25%        211.000000\n",
              "50%        375.000000\n",
              "75%        554.000000\n",
              "max        917.000000\n",
              "Name: BrandCount, dtype: float64"
            ]
          },
          "metadata": {},
          "execution_count": 27
        }
      ],
      "source": [
        "data['BrandCount'].describe()"
      ]
    },
    {
      "cell_type": "code",
      "execution_count": null,
      "metadata": {
        "id": "J1_r-JoSPZv0",
        "colab": {
          "base_uri": "https://localhost:8080/"
        },
        "outputId": "c5a88ac8-9b28-4a9b-c10b-128b96b588f7"
      },
      "outputs": [
        {
          "output_type": "execute_result",
          "data": {
            "text/plain": [
              "count    18374.000000\n",
              "mean        45.283335\n",
              "std         14.203666\n",
              "min          0.000000\n",
              "25%         35.000000\n",
              "50%         50.000000\n",
              "75%         50.000000\n",
              "max         85.000000\n",
              "Name: Discount, dtype: float64"
            ]
          },
          "metadata": {},
          "execution_count": 28
        }
      ],
      "source": [
        "data['Discount'].describe()"
      ]
    },
    {
      "cell_type": "markdown",
      "metadata": {
        "id": "sAkFpyiMuTs_"
      },
      "source": [
        "## Data Pre-processing"
      ]
    },
    {
      "cell_type": "code",
      "execution_count": null,
      "metadata": {
        "id": "OLeUpNa3nl5s"
      },
      "outputs": [],
      "source": [
        "data.drop(columns = [\"Deatils\", \"Sizes\", \"Category\"], inplace = True)"
      ]
    },
    {
      "cell_type": "code",
      "source": [
        "data"
      ],
      "metadata": {
        "id": "8dabXil4aNKe",
        "colab": {
          "base_uri": "https://localhost:8080/",
          "height": 424
        },
        "outputId": "f4e47b67-8727-467c-f992-79c3c357b3de"
      },
      "execution_count": null,
      "outputs": [
        {
          "output_type": "execute_result",
          "data": {
            "text/plain": [
              "            BrandName    MRP  SellPrice  Discount  BrandCount\n",
              "0                life   1699        849        50         554\n",
              "1                only   3499       2449        30         376\n",
              "2             fratini   1199        599        50         204\n",
              "3         zink london   2299       1379        40         917\n",
              "4                life   1699        849        50         554\n",
              "...               ...    ...        ...       ...         ...\n",
              "26673  lemon & pepper   2999       1499        50         162\n",
              "26674     haute curry   2199       1099        50         386\n",
              "26885     swiss eagle  13990       4197        70           1\n",
              "27290  lawman watches   7499       4999        33           2\n",
              "28418  lawman watches   5999       3999        33           2\n",
              "\n",
              "[18374 rows x 5 columns]"
            ],
            "text/html": [
              "\n",
              "  <div id=\"df-751d5110-ae7e-492c-9ea4-4ee1ee2692e3\">\n",
              "    <div class=\"colab-df-container\">\n",
              "      <div>\n",
              "<style scoped>\n",
              "    .dataframe tbody tr th:only-of-type {\n",
              "        vertical-align: middle;\n",
              "    }\n",
              "\n",
              "    .dataframe tbody tr th {\n",
              "        vertical-align: top;\n",
              "    }\n",
              "\n",
              "    .dataframe thead th {\n",
              "        text-align: right;\n",
              "    }\n",
              "</style>\n",
              "<table border=\"1\" class=\"dataframe\">\n",
              "  <thead>\n",
              "    <tr style=\"text-align: right;\">\n",
              "      <th></th>\n",
              "      <th>BrandName</th>\n",
              "      <th>MRP</th>\n",
              "      <th>SellPrice</th>\n",
              "      <th>Discount</th>\n",
              "      <th>BrandCount</th>\n",
              "    </tr>\n",
              "  </thead>\n",
              "  <tbody>\n",
              "    <tr>\n",
              "      <th>0</th>\n",
              "      <td>life</td>\n",
              "      <td>1699</td>\n",
              "      <td>849</td>\n",
              "      <td>50</td>\n",
              "      <td>554</td>\n",
              "    </tr>\n",
              "    <tr>\n",
              "      <th>1</th>\n",
              "      <td>only</td>\n",
              "      <td>3499</td>\n",
              "      <td>2449</td>\n",
              "      <td>30</td>\n",
              "      <td>376</td>\n",
              "    </tr>\n",
              "    <tr>\n",
              "      <th>2</th>\n",
              "      <td>fratini</td>\n",
              "      <td>1199</td>\n",
              "      <td>599</td>\n",
              "      <td>50</td>\n",
              "      <td>204</td>\n",
              "    </tr>\n",
              "    <tr>\n",
              "      <th>3</th>\n",
              "      <td>zink london</td>\n",
              "      <td>2299</td>\n",
              "      <td>1379</td>\n",
              "      <td>40</td>\n",
              "      <td>917</td>\n",
              "    </tr>\n",
              "    <tr>\n",
              "      <th>4</th>\n",
              "      <td>life</td>\n",
              "      <td>1699</td>\n",
              "      <td>849</td>\n",
              "      <td>50</td>\n",
              "      <td>554</td>\n",
              "    </tr>\n",
              "    <tr>\n",
              "      <th>...</th>\n",
              "      <td>...</td>\n",
              "      <td>...</td>\n",
              "      <td>...</td>\n",
              "      <td>...</td>\n",
              "      <td>...</td>\n",
              "    </tr>\n",
              "    <tr>\n",
              "      <th>26673</th>\n",
              "      <td>lemon &amp; pepper</td>\n",
              "      <td>2999</td>\n",
              "      <td>1499</td>\n",
              "      <td>50</td>\n",
              "      <td>162</td>\n",
              "    </tr>\n",
              "    <tr>\n",
              "      <th>26674</th>\n",
              "      <td>haute curry</td>\n",
              "      <td>2199</td>\n",
              "      <td>1099</td>\n",
              "      <td>50</td>\n",
              "      <td>386</td>\n",
              "    </tr>\n",
              "    <tr>\n",
              "      <th>26885</th>\n",
              "      <td>swiss eagle</td>\n",
              "      <td>13990</td>\n",
              "      <td>4197</td>\n",
              "      <td>70</td>\n",
              "      <td>1</td>\n",
              "    </tr>\n",
              "    <tr>\n",
              "      <th>27290</th>\n",
              "      <td>lawman watches</td>\n",
              "      <td>7499</td>\n",
              "      <td>4999</td>\n",
              "      <td>33</td>\n",
              "      <td>2</td>\n",
              "    </tr>\n",
              "    <tr>\n",
              "      <th>28418</th>\n",
              "      <td>lawman watches</td>\n",
              "      <td>5999</td>\n",
              "      <td>3999</td>\n",
              "      <td>33</td>\n",
              "      <td>2</td>\n",
              "    </tr>\n",
              "  </tbody>\n",
              "</table>\n",
              "<p>18374 rows × 5 columns</p>\n",
              "</div>\n",
              "      <button class=\"colab-df-convert\" onclick=\"convertToInteractive('df-751d5110-ae7e-492c-9ea4-4ee1ee2692e3')\"\n",
              "              title=\"Convert this dataframe to an interactive table.\"\n",
              "              style=\"display:none;\">\n",
              "        \n",
              "  <svg xmlns=\"http://www.w3.org/2000/svg\" height=\"24px\"viewBox=\"0 0 24 24\"\n",
              "       width=\"24px\">\n",
              "    <path d=\"M0 0h24v24H0V0z\" fill=\"none\"/>\n",
              "    <path d=\"M18.56 5.44l.94 2.06.94-2.06 2.06-.94-2.06-.94-.94-2.06-.94 2.06-2.06.94zm-11 1L8.5 8.5l.94-2.06 2.06-.94-2.06-.94L8.5 2.5l-.94 2.06-2.06.94zm10 10l.94 2.06.94-2.06 2.06-.94-2.06-.94-.94-2.06-.94 2.06-2.06.94z\"/><path d=\"M17.41 7.96l-1.37-1.37c-.4-.4-.92-.59-1.43-.59-.52 0-1.04.2-1.43.59L10.3 9.45l-7.72 7.72c-.78.78-.78 2.05 0 2.83L4 21.41c.39.39.9.59 1.41.59.51 0 1.02-.2 1.41-.59l7.78-7.78 2.81-2.81c.8-.78.8-2.07 0-2.86zM5.41 20L4 18.59l7.72-7.72 1.47 1.35L5.41 20z\"/>\n",
              "  </svg>\n",
              "      </button>\n",
              "      \n",
              "  <style>\n",
              "    .colab-df-container {\n",
              "      display:flex;\n",
              "      flex-wrap:wrap;\n",
              "      gap: 12px;\n",
              "    }\n",
              "\n",
              "    .colab-df-convert {\n",
              "      background-color: #E8F0FE;\n",
              "      border: none;\n",
              "      border-radius: 50%;\n",
              "      cursor: pointer;\n",
              "      display: none;\n",
              "      fill: #1967D2;\n",
              "      height: 32px;\n",
              "      padding: 0 0 0 0;\n",
              "      width: 32px;\n",
              "    }\n",
              "\n",
              "    .colab-df-convert:hover {\n",
              "      background-color: #E2EBFA;\n",
              "      box-shadow: 0px 1px 2px rgba(60, 64, 67, 0.3), 0px 1px 3px 1px rgba(60, 64, 67, 0.15);\n",
              "      fill: #174EA6;\n",
              "    }\n",
              "\n",
              "    [theme=dark] .colab-df-convert {\n",
              "      background-color: #3B4455;\n",
              "      fill: #D2E3FC;\n",
              "    }\n",
              "\n",
              "    [theme=dark] .colab-df-convert:hover {\n",
              "      background-color: #434B5C;\n",
              "      box-shadow: 0px 1px 3px 1px rgba(0, 0, 0, 0.15);\n",
              "      filter: drop-shadow(0px 1px 2px rgba(0, 0, 0, 0.3));\n",
              "      fill: #FFFFFF;\n",
              "    }\n",
              "  </style>\n",
              "\n",
              "      <script>\n",
              "        const buttonEl =\n",
              "          document.querySelector('#df-751d5110-ae7e-492c-9ea4-4ee1ee2692e3 button.colab-df-convert');\n",
              "        buttonEl.style.display =\n",
              "          google.colab.kernel.accessAllowed ? 'block' : 'none';\n",
              "\n",
              "        async function convertToInteractive(key) {\n",
              "          const element = document.querySelector('#df-751d5110-ae7e-492c-9ea4-4ee1ee2692e3');\n",
              "          const dataTable =\n",
              "            await google.colab.kernel.invokeFunction('convertToInteractive',\n",
              "                                                     [key], {});\n",
              "          if (!dataTable) return;\n",
              "\n",
              "          const docLinkHtml = 'Like what you see? Visit the ' +\n",
              "            '<a target=\"_blank\" href=https://colab.research.google.com/notebooks/data_table.ipynb>data table notebook</a>'\n",
              "            + ' to learn more about interactive tables.';\n",
              "          element.innerHTML = '';\n",
              "          dataTable['output_type'] = 'display_data';\n",
              "          await google.colab.output.renderOutput(dataTable, element);\n",
              "          const docLink = document.createElement('div');\n",
              "          docLink.innerHTML = docLinkHtml;\n",
              "          element.appendChild(docLink);\n",
              "        }\n",
              "      </script>\n",
              "    </div>\n",
              "  </div>\n",
              "  "
            ]
          },
          "metadata": {},
          "execution_count": 30
        }
      ]
    },
    {
      "cell_type": "code",
      "execution_count": null,
      "metadata": {
        "id": "ZYqr8Vl6n15J"
      },
      "outputs": [],
      "source": [
        "columns_titles = [\"BrandName\", \"MRP\", \"Discount\", \"SellPrice\", \"BrandCount\"]\n",
        "data = data.reindex(columns = columns_titles)\n",
        "data['MRP'] = data['MRP'].astype(str)\n",
        "data['Discount'] = data['Discount'].astype(str)\n",
        "data['SellPrice'] = data['SellPrice'].astype(str)"
      ]
    },
    {
      "cell_type": "code",
      "execution_count": null,
      "metadata": {
        "id": "s9PRvgSloFbo",
        "colab": {
          "base_uri": "https://localhost:8080/",
          "height": 424
        },
        "outputId": "48ff335d-da2e-44c3-8ba7-856ffaa122a2"
      },
      "outputs": [
        {
          "output_type": "execute_result",
          "data": {
            "text/plain": [
              "            BrandName    MRP Discount SellPrice  BrandCount\n",
              "0                life   1699       50       849         554\n",
              "1                only   3499       30      2449         376\n",
              "2             fratini   1199       50       599         204\n",
              "3         zink london   2299       40      1379         917\n",
              "4                life   1699       50       849         554\n",
              "...               ...    ...      ...       ...         ...\n",
              "26673  lemon & pepper   2999       50      1499         162\n",
              "26674     haute curry   2199       50      1099         386\n",
              "26885     swiss eagle  13990       70      4197           1\n",
              "27290  lawman watches   7499       33      4999           2\n",
              "28418  lawman watches   5999       33      3999           2\n",
              "\n",
              "[18374 rows x 5 columns]"
            ],
            "text/html": [
              "\n",
              "  <div id=\"df-28916419-32b0-42c9-b324-9e8af54cee75\">\n",
              "    <div class=\"colab-df-container\">\n",
              "      <div>\n",
              "<style scoped>\n",
              "    .dataframe tbody tr th:only-of-type {\n",
              "        vertical-align: middle;\n",
              "    }\n",
              "\n",
              "    .dataframe tbody tr th {\n",
              "        vertical-align: top;\n",
              "    }\n",
              "\n",
              "    .dataframe thead th {\n",
              "        text-align: right;\n",
              "    }\n",
              "</style>\n",
              "<table border=\"1\" class=\"dataframe\">\n",
              "  <thead>\n",
              "    <tr style=\"text-align: right;\">\n",
              "      <th></th>\n",
              "      <th>BrandName</th>\n",
              "      <th>MRP</th>\n",
              "      <th>Discount</th>\n",
              "      <th>SellPrice</th>\n",
              "      <th>BrandCount</th>\n",
              "    </tr>\n",
              "  </thead>\n",
              "  <tbody>\n",
              "    <tr>\n",
              "      <th>0</th>\n",
              "      <td>life</td>\n",
              "      <td>1699</td>\n",
              "      <td>50</td>\n",
              "      <td>849</td>\n",
              "      <td>554</td>\n",
              "    </tr>\n",
              "    <tr>\n",
              "      <th>1</th>\n",
              "      <td>only</td>\n",
              "      <td>3499</td>\n",
              "      <td>30</td>\n",
              "      <td>2449</td>\n",
              "      <td>376</td>\n",
              "    </tr>\n",
              "    <tr>\n",
              "      <th>2</th>\n",
              "      <td>fratini</td>\n",
              "      <td>1199</td>\n",
              "      <td>50</td>\n",
              "      <td>599</td>\n",
              "      <td>204</td>\n",
              "    </tr>\n",
              "    <tr>\n",
              "      <th>3</th>\n",
              "      <td>zink london</td>\n",
              "      <td>2299</td>\n",
              "      <td>40</td>\n",
              "      <td>1379</td>\n",
              "      <td>917</td>\n",
              "    </tr>\n",
              "    <tr>\n",
              "      <th>4</th>\n",
              "      <td>life</td>\n",
              "      <td>1699</td>\n",
              "      <td>50</td>\n",
              "      <td>849</td>\n",
              "      <td>554</td>\n",
              "    </tr>\n",
              "    <tr>\n",
              "      <th>...</th>\n",
              "      <td>...</td>\n",
              "      <td>...</td>\n",
              "      <td>...</td>\n",
              "      <td>...</td>\n",
              "      <td>...</td>\n",
              "    </tr>\n",
              "    <tr>\n",
              "      <th>26673</th>\n",
              "      <td>lemon &amp; pepper</td>\n",
              "      <td>2999</td>\n",
              "      <td>50</td>\n",
              "      <td>1499</td>\n",
              "      <td>162</td>\n",
              "    </tr>\n",
              "    <tr>\n",
              "      <th>26674</th>\n",
              "      <td>haute curry</td>\n",
              "      <td>2199</td>\n",
              "      <td>50</td>\n",
              "      <td>1099</td>\n",
              "      <td>386</td>\n",
              "    </tr>\n",
              "    <tr>\n",
              "      <th>26885</th>\n",
              "      <td>swiss eagle</td>\n",
              "      <td>13990</td>\n",
              "      <td>70</td>\n",
              "      <td>4197</td>\n",
              "      <td>1</td>\n",
              "    </tr>\n",
              "    <tr>\n",
              "      <th>27290</th>\n",
              "      <td>lawman watches</td>\n",
              "      <td>7499</td>\n",
              "      <td>33</td>\n",
              "      <td>4999</td>\n",
              "      <td>2</td>\n",
              "    </tr>\n",
              "    <tr>\n",
              "      <th>28418</th>\n",
              "      <td>lawman watches</td>\n",
              "      <td>5999</td>\n",
              "      <td>33</td>\n",
              "      <td>3999</td>\n",
              "      <td>2</td>\n",
              "    </tr>\n",
              "  </tbody>\n",
              "</table>\n",
              "<p>18374 rows × 5 columns</p>\n",
              "</div>\n",
              "      <button class=\"colab-df-convert\" onclick=\"convertToInteractive('df-28916419-32b0-42c9-b324-9e8af54cee75')\"\n",
              "              title=\"Convert this dataframe to an interactive table.\"\n",
              "              style=\"display:none;\">\n",
              "        \n",
              "  <svg xmlns=\"http://www.w3.org/2000/svg\" height=\"24px\"viewBox=\"0 0 24 24\"\n",
              "       width=\"24px\">\n",
              "    <path d=\"M0 0h24v24H0V0z\" fill=\"none\"/>\n",
              "    <path d=\"M18.56 5.44l.94 2.06.94-2.06 2.06-.94-2.06-.94-.94-2.06-.94 2.06-2.06.94zm-11 1L8.5 8.5l.94-2.06 2.06-.94-2.06-.94L8.5 2.5l-.94 2.06-2.06.94zm10 10l.94 2.06.94-2.06 2.06-.94-2.06-.94-.94-2.06-.94 2.06-2.06.94z\"/><path d=\"M17.41 7.96l-1.37-1.37c-.4-.4-.92-.59-1.43-.59-.52 0-1.04.2-1.43.59L10.3 9.45l-7.72 7.72c-.78.78-.78 2.05 0 2.83L4 21.41c.39.39.9.59 1.41.59.51 0 1.02-.2 1.41-.59l7.78-7.78 2.81-2.81c.8-.78.8-2.07 0-2.86zM5.41 20L4 18.59l7.72-7.72 1.47 1.35L5.41 20z\"/>\n",
              "  </svg>\n",
              "      </button>\n",
              "      \n",
              "  <style>\n",
              "    .colab-df-container {\n",
              "      display:flex;\n",
              "      flex-wrap:wrap;\n",
              "      gap: 12px;\n",
              "    }\n",
              "\n",
              "    .colab-df-convert {\n",
              "      background-color: #E8F0FE;\n",
              "      border: none;\n",
              "      border-radius: 50%;\n",
              "      cursor: pointer;\n",
              "      display: none;\n",
              "      fill: #1967D2;\n",
              "      height: 32px;\n",
              "      padding: 0 0 0 0;\n",
              "      width: 32px;\n",
              "    }\n",
              "\n",
              "    .colab-df-convert:hover {\n",
              "      background-color: #E2EBFA;\n",
              "      box-shadow: 0px 1px 2px rgba(60, 64, 67, 0.3), 0px 1px 3px 1px rgba(60, 64, 67, 0.15);\n",
              "      fill: #174EA6;\n",
              "    }\n",
              "\n",
              "    [theme=dark] .colab-df-convert {\n",
              "      background-color: #3B4455;\n",
              "      fill: #D2E3FC;\n",
              "    }\n",
              "\n",
              "    [theme=dark] .colab-df-convert:hover {\n",
              "      background-color: #434B5C;\n",
              "      box-shadow: 0px 1px 3px 1px rgba(0, 0, 0, 0.15);\n",
              "      filter: drop-shadow(0px 1px 2px rgba(0, 0, 0, 0.3));\n",
              "      fill: #FFFFFF;\n",
              "    }\n",
              "  </style>\n",
              "\n",
              "      <script>\n",
              "        const buttonEl =\n",
              "          document.querySelector('#df-28916419-32b0-42c9-b324-9e8af54cee75 button.colab-df-convert');\n",
              "        buttonEl.style.display =\n",
              "          google.colab.kernel.accessAllowed ? 'block' : 'none';\n",
              "\n",
              "        async function convertToInteractive(key) {\n",
              "          const element = document.querySelector('#df-28916419-32b0-42c9-b324-9e8af54cee75');\n",
              "          const dataTable =\n",
              "            await google.colab.kernel.invokeFunction('convertToInteractive',\n",
              "                                                     [key], {});\n",
              "          if (!dataTable) return;\n",
              "\n",
              "          const docLinkHtml = 'Like what you see? Visit the ' +\n",
              "            '<a target=\"_blank\" href=https://colab.research.google.com/notebooks/data_table.ipynb>data table notebook</a>'\n",
              "            + ' to learn more about interactive tables.';\n",
              "          element.innerHTML = '';\n",
              "          dataTable['output_type'] = 'display_data';\n",
              "          await google.colab.output.renderOutput(dataTable, element);\n",
              "          const docLink = document.createElement('div');\n",
              "          docLink.innerHTML = docLinkHtml;\n",
              "          element.appendChild(docLink);\n",
              "        }\n",
              "      </script>\n",
              "    </div>\n",
              "  </div>\n",
              "  "
            ]
          },
          "metadata": {},
          "execution_count": 32
        }
      ],
      "source": [
        "data"
      ]
    },
    {
      "cell_type": "markdown",
      "metadata": {
        "id": "iwPSIgZpuW5T"
      },
      "source": [
        "## Scikit-Learn Library "
      ]
    },
    {
      "cell_type": "code",
      "execution_count": null,
      "metadata": {
        "id": "UYc4W4PKeVvh"
      },
      "outputs": [],
      "source": [
        "from sklearn import tree \n",
        "from sklearn.tree import DecisionTreeClassifier\n",
        "from sklearn.metrics import accuracy_score\n",
        "from sklearn.model_selection import train_test_split"
      ]
    },
    {
      "cell_type": "markdown",
      "metadata": {
        "id": "QsVPVKaUufmr"
      },
      "source": [
        "## Decision Tree Classifier"
      ]
    },
    {
      "cell_type": "code",
      "execution_count": null,
      "metadata": {
        "id": "R4nCdh6igD6h",
        "colab": {
          "base_uri": "https://localhost:8080/"
        },
        "outputId": "375b5e29-f868-477a-c0eb-8a994c6e0951"
      },
      "outputs": [
        {
          "output_type": "stream",
          "name": "stdout",
          "text": [
            "0.9504761904761905\n"
          ]
        }
      ],
      "source": [
        "X = data.iloc[:, 1:3]\n",
        "y = data.iloc[:, 3:4]\n",
        "X_train, X_test, y_train, y_test = train_test_split(X, y, test_size = 0.2, random_state = 1)\n",
        "result = DecisionTreeClassifier(criterion = 'entropy', random_state = 1)\n",
        "result.fit(X_train, y_train)\n",
        "y_pred = result.predict(X_test)\n",
        "scoreDT = accuracy_score(y_pred, y_test)\n",
        "print(scoreDT)"
      ]
    },
    {
      "cell_type": "code",
      "execution_count": null,
      "metadata": {
        "id": "jrtYNjlKFKkz",
        "colab": {
          "base_uri": "https://localhost:8080/"
        },
        "outputId": "bb7b36aa-6666-480b-82a3-3291e7b6c512"
      },
      "outputs": [
        {
          "output_type": "stream",
          "name": "stdout",
          "text": [
            "[[  1   0   0 ...   0   0   0]\n",
            " [  0   0   0 ...   0   0   0]\n",
            " [  0   0   1 ...   0   0   0]\n",
            " ...\n",
            " [  0   0   0 ...   0   0   0]\n",
            " [  0   0   0 ...   0   2   0]\n",
            " [  0   0   0 ...   0   0 106]]\n"
          ]
        }
      ],
      "source": [
        "from sklearn.metrics import confusion_matrix\n",
        "\n",
        "mat = confusion_matrix(y_pred, y_test)\n",
        "print(mat)"
      ]
    },
    {
      "cell_type": "code",
      "execution_count": null,
      "metadata": {
        "id": "TpvbmETVqfNR",
        "colab": {
          "base_uri": "https://localhost:8080/"
        },
        "outputId": "cea74b37-ce09-4cf0-b3f9-44dbb9f92ccc"
      },
      "outputs": [
        {
          "output_type": "stream",
          "name": "stdout",
          "text": [
            "0.9504761904761905\n"
          ]
        }
      ],
      "source": [
        "from sklearn.metrics import recall_score\n",
        "\n",
        "scr_d = recall_score(y_pred, y_test, average = 'micro')\n",
        "print(scr_d)"
      ]
    },
    {
      "cell_type": "code",
      "execution_count": null,
      "metadata": {
        "id": "Ixiz25TNr48q",
        "colab": {
          "base_uri": "https://localhost:8080/"
        },
        "outputId": "df89b868-61ca-458f-b2d7-607adb97584b"
      },
      "outputs": [
        {
          "output_type": "stream",
          "name": "stdout",
          "text": [
            "0.9504761904761905\n"
          ]
        }
      ],
      "source": [
        "from sklearn.metrics import precision_score\n",
        "\n",
        "scr_d1 = precision_score(y_pred, y_test, average = 'micro')\n",
        "print(scr_d1)"
      ]
    },
    {
      "cell_type": "code",
      "execution_count": null,
      "metadata": {
        "id": "LY62wEitr5Ns",
        "colab": {
          "base_uri": "https://localhost:8080/"
        },
        "outputId": "1b82c8ef-b7d8-4ff2-9af9-b185de3abcbe"
      },
      "outputs": [
        {
          "output_type": "stream",
          "name": "stdout",
          "text": [
            "0.9504761904761905\n"
          ]
        }
      ],
      "source": [
        "from sklearn.metrics import f1_score\n",
        "\n",
        "scr_d2 = f1_score(y_pred, y_test, average = 'micro')\n",
        "print(scr_d2)"
      ]
    },
    {
      "cell_type": "markdown",
      "metadata": {
        "id": "GbU9CargvCYe"
      },
      "source": [
        "## SVC - Support Vector Classifier \n",
        "\n"
      ]
    },
    {
      "cell_type": "code",
      "execution_count": null,
      "metadata": {
        "id": "LBTs-tnBboU1",
        "colab": {
          "base_uri": "https://localhost:8080/"
        },
        "outputId": "45978887-fbad-40d0-c656-9427b5f3281a"
      },
      "outputs": [
        {
          "output_type": "stream",
          "name": "stderr",
          "text": [
            "/usr/local/lib/python3.7/dist-packages/sklearn/utils/validation.py:993: DataConversionWarning: A column-vector y was passed when a 1d array was expected. Please change the shape of y to (n_samples, ), for example using ravel().\n",
            "  y = column_or_1d(y, warn=True)\n"
          ]
        },
        {
          "output_type": "execute_result",
          "data": {
            "text/plain": [
              "SVC(gamma='auto')"
            ]
          },
          "metadata": {},
          "execution_count": 39
        }
      ],
      "source": [
        "from sklearn.svm import SVC\n",
        "\n",
        "svc = SVC(gamma = \"auto\")\n",
        "svc.fit(X_train, y_train)"
      ]
    },
    {
      "cell_type": "code",
      "execution_count": null,
      "metadata": {
        "id": "UTLei8oajSKm",
        "colab": {
          "base_uri": "https://localhost:8080/"
        },
        "outputId": "ed6e28c4-4199-4ff2-dd76-703506a2c927"
      },
      "outputs": [
        {
          "output_type": "stream",
          "name": "stdout",
          "text": [
            "Training Score: 0.9919042111708279\n",
            "Test Score: 0.9461224489795919\n"
          ]
        }
      ],
      "source": [
        "print(\"Training Score:\", svc.score(X_train, y_train))\n",
        "print(\"Test Score:\", svc.score(X_test, y_test))"
      ]
    },
    {
      "cell_type": "code",
      "execution_count": null,
      "metadata": {
        "id": "aXi2DgyMjlsu",
        "colab": {
          "base_uri": "https://localhost:8080/"
        },
        "outputId": "d5f8496b-094c-4243-9d86-46ae3fcb4082"
      },
      "outputs": [
        {
          "output_type": "stream",
          "name": "stdout",
          "text": [
            "0.9461224489795919\n"
          ]
        }
      ],
      "source": [
        "pred2 = svc.predict(X_test)\n",
        "scoreSVC = accuracy_score(pred2, y_test)\n",
        "print(scoreSVC)"
      ]
    },
    {
      "cell_type": "code",
      "execution_count": null,
      "metadata": {
        "id": "p3rHyzObupTf",
        "colab": {
          "base_uri": "https://localhost:8080/"
        },
        "outputId": "9ab781af-f691-499a-a700-4d551cfd13ea"
      },
      "outputs": [
        {
          "output_type": "stream",
          "name": "stdout",
          "text": [
            "[[  1   0   0 ...   0   0   0]\n",
            " [  0   0   0 ...   0   0   0]\n",
            " [  0   0   1 ...   0   0   0]\n",
            " ...\n",
            " [  0   0   0 ...   5   0   0]\n",
            " [  0   0   0 ...   0   2   0]\n",
            " [  0   0   0 ...   0   0 106]]\n"
          ]
        }
      ],
      "source": [
        "from sklearn.metrics import confusion_matrix\n",
        "\n",
        "mat1 = confusion_matrix(pred2, y_test)\n",
        "print(mat1)"
      ]
    },
    {
      "cell_type": "code",
      "execution_count": null,
      "metadata": {
        "id": "qjGZeJJZvxYi",
        "colab": {
          "base_uri": "https://localhost:8080/"
        },
        "outputId": "63e8c73d-0a10-48ca-86f4-f6812c8e5656"
      },
      "outputs": [
        {
          "output_type": "stream",
          "name": "stdout",
          "text": [
            "0.9461224489795919\n"
          ]
        }
      ],
      "source": [
        "scr_s = recall_score(pred2, y_test, average = 'micro')\n",
        "print(scr_s)"
      ]
    },
    {
      "cell_type": "code",
      "execution_count": null,
      "metadata": {
        "id": "svUdQLFivxv2",
        "colab": {
          "base_uri": "https://localhost:8080/"
        },
        "outputId": "684eb6de-33e7-4a79-e953-8a7652278a03"
      },
      "outputs": [
        {
          "output_type": "stream",
          "name": "stdout",
          "text": [
            "0.9461224489795919\n"
          ]
        }
      ],
      "source": [
        "scr_s1 = precision_score(pred2, y_test, average = 'micro')\n",
        "print(scr_s1)"
      ]
    },
    {
      "cell_type": "code",
      "execution_count": null,
      "metadata": {
        "id": "QarmAK0bvx3c",
        "colab": {
          "base_uri": "https://localhost:8080/"
        },
        "outputId": "442289d3-490e-4626-f20d-17afc8d8c71b"
      },
      "outputs": [
        {
          "output_type": "stream",
          "name": "stdout",
          "text": [
            "0.9461224489795919\n"
          ]
        }
      ],
      "source": [
        "scr_s2 = f1_score(pred2, y_test, average = 'micro')\n",
        "print(scr_s2)"
      ]
    },
    {
      "cell_type": "markdown",
      "metadata": {
        "id": "W3KxBsSkwRk2"
      },
      "source": [
        "## Random Forest Classication"
      ]
    },
    {
      "cell_type": "code",
      "execution_count": null,
      "metadata": {
        "id": "C0XWXl1dkYaJ",
        "colab": {
          "base_uri": "https://localhost:8080/"
        },
        "outputId": "07a70b6f-42b8-40e6-b043-5d41f7e968cc"
      },
      "outputs": [
        {
          "output_type": "stream",
          "name": "stderr",
          "text": [
            "/usr/local/lib/python3.7/dist-packages/ipykernel_launcher.py:4: DataConversionWarning: A column-vector y was passed when a 1d array was expected. Please change the shape of y to (n_samples,), for example using ravel().\n",
            "  after removing the cwd from sys.path.\n"
          ]
        },
        {
          "output_type": "execute_result",
          "data": {
            "text/plain": [
              "RandomForestClassifier(n_estimators=200)"
            ]
          },
          "metadata": {},
          "execution_count": 46
        }
      ],
      "source": [
        "from sklearn.ensemble import RandomForestClassifier\n",
        "\n",
        "rfc = RandomForestClassifier(n_estimators = 200)\n",
        "rfc.fit(X_train, y_train)"
      ]
    },
    {
      "cell_type": "code",
      "execution_count": null,
      "metadata": {
        "id": "7nVVOy41leCN",
        "colab": {
          "base_uri": "https://localhost:8080/"
        },
        "outputId": "d6c9c2f9-fe34-4dea-b2bf-7b4441c43e68"
      },
      "outputs": [
        {
          "output_type": "stream",
          "name": "stdout",
          "text": [
            "Training Score:  0.9969385672494727\n",
            "Test Score:  0.9504761904761905\n"
          ]
        }
      ],
      "source": [
        "print(\"Training Score: \", rfc.score(X_train, y_train))\n",
        "print(\"Test Score: \", rfc.score(X_test, y_test))"
      ]
    },
    {
      "cell_type": "code",
      "execution_count": null,
      "metadata": {
        "id": "cFL6thLHl0VJ",
        "colab": {
          "base_uri": "https://localhost:8080/"
        },
        "outputId": "8a94f898-49ee-4c09-e053-356d216a4f61"
      },
      "outputs": [
        {
          "output_type": "stream",
          "name": "stdout",
          "text": [
            "0.9504761904761905\n"
          ]
        }
      ],
      "source": [
        "pred3 = rfc.predict(X_test)\n",
        "scoreRFC = accuracy_score(pred3, y_test)\n",
        "print(scoreRFC)"
      ]
    },
    {
      "cell_type": "code",
      "execution_count": null,
      "metadata": {
        "id": "vMftFVs8ysKj",
        "colab": {
          "base_uri": "https://localhost:8080/"
        },
        "outputId": "9a7efea4-272d-47bf-d10e-04910391cdca"
      },
      "outputs": [
        {
          "output_type": "stream",
          "name": "stdout",
          "text": [
            "[[  1   0   0 ...   0   0   0]\n",
            " [  0   0   0 ...   0   0   0]\n",
            " [  0   0   1 ...   0   0   0]\n",
            " ...\n",
            " [  0   0   0 ...   5   0   0]\n",
            " [  0   0   0 ...   0   2   0]\n",
            " [  0   0   0 ...   0   0 106]]\n"
          ]
        }
      ],
      "source": [
        "mat2 = confusion_matrix(pred3, y_test)\n",
        "print(mat2)"
      ]
    },
    {
      "cell_type": "code",
      "execution_count": null,
      "metadata": {
        "id": "r-L9qe2LxQRm",
        "colab": {
          "base_uri": "https://localhost:8080/"
        },
        "outputId": "707c0192-d294-4133-effe-59437aad01a8"
      },
      "outputs": [
        {
          "output_type": "stream",
          "name": "stdout",
          "text": [
            "0.9504761904761905\n"
          ]
        }
      ],
      "source": [
        "scr_rfc = recall_score(pred3, y_test, average = 'micro')\n",
        "print(scr_rfc)"
      ]
    },
    {
      "cell_type": "code",
      "execution_count": null,
      "metadata": {
        "id": "gaizWaIGxQv7",
        "colab": {
          "base_uri": "https://localhost:8080/"
        },
        "outputId": "503048ce-5295-435e-9e12-6bec3fe06068"
      },
      "outputs": [
        {
          "output_type": "stream",
          "name": "stdout",
          "text": [
            "0.9504761904761905\n"
          ]
        }
      ],
      "source": [
        "scr_rfc1 = precision_score(pred3, y_test, average = 'micro')\n",
        "print(scr_rfc1)"
      ]
    },
    {
      "cell_type": "code",
      "execution_count": null,
      "metadata": {
        "id": "zsVsTNDuxQ4O",
        "colab": {
          "base_uri": "https://localhost:8080/"
        },
        "outputId": "dbcb2ec2-83f3-44c7-ca34-2f3242c0120b"
      },
      "outputs": [
        {
          "output_type": "stream",
          "name": "stdout",
          "text": [
            "0.9504761904761905\n"
          ]
        }
      ],
      "source": [
        "scr_rfc2 = f1_score(pred3, y_test, average = 'micro')\n",
        "print(scr_rfc2)"
      ]
    },
    {
      "cell_type": "markdown",
      "metadata": {
        "id": "Whhh2BMPxiry"
      },
      "source": [
        "## Linear Regression"
      ]
    },
    {
      "cell_type": "code",
      "execution_count": null,
      "metadata": {
        "id": "y1BFjKX4rwi6",
        "colab": {
          "base_uri": "https://localhost:8080/"
        },
        "outputId": "dc4d2c37-9250-4dff-cf24-cf3edac068d8"
      },
      "outputs": [
        {
          "output_type": "execute_result",
          "data": {
            "text/plain": [
              "LinearRegression()"
            ]
          },
          "metadata": {},
          "execution_count": 53
        }
      ],
      "source": [
        "from sklearn.linear_model import LinearRegression\n",
        "\n",
        "rg = LinearRegression()\n",
        "rg.fit(X_train, y_train)"
      ]
    },
    {
      "cell_type": "code",
      "execution_count": null,
      "metadata": {
        "id": "AORdqovOr86s",
        "colab": {
          "base_uri": "https://localhost:8080/"
        },
        "outputId": "f6c81eb9-9677-4ce3-d77b-b07a6a51c6da"
      },
      "outputs": [
        {
          "output_type": "stream",
          "name": "stdout",
          "text": [
            "Training Score:  0.9377005880202302\n",
            "Test Score:  0.9406432866843732\n"
          ]
        }
      ],
      "source": [
        "print(\"Training Score: \", rg.score(X_train, y_train))\n",
        "print(\"Test Score: \", rg.score(X_test, y_test))"
      ]
    },
    {
      "cell_type": "code",
      "execution_count": null,
      "metadata": {
        "id": "Rniv83lPsJtq",
        "colab": {
          "base_uri": "https://localhost:8080/"
        },
        "outputId": "25d36391-3a3a-4231-9037-2f35f7f2d65c"
      },
      "outputs": [
        {
          "output_type": "stream",
          "name": "stdout",
          "text": [
            "[[  0.54179793 -24.14413913]]\n",
            "[1098.65846193]\n"
          ]
        }
      ],
      "source": [
        "print(rg.coef_)\n",
        "print(rg.intercept_)"
      ]
    },
    {
      "cell_type": "code",
      "execution_count": null,
      "metadata": {
        "id": "2j4i2UdPtFRP",
        "colab": {
          "base_uri": "https://localhost:8080/"
        },
        "outputId": "29e93b4c-f451-4931-e247-dcc35cb27e53"
      },
      "outputs": [
        {
          "output_type": "stream",
          "name": "stdout",
          "text": [
            "0.9368643446500489\n"
          ]
        }
      ],
      "source": [
        "from sklearn.metrics import r2_score\n",
        "\n",
        "pred4 = rg.predict(X_test)\n",
        "scoreLR = r2_score(pred4, y_test)\n",
        "print(scoreLR)"
      ]
    },
    {
      "cell_type": "markdown",
      "metadata": {
        "id": "p0AyWKvCyK-Y"
      },
      "source": [
        "## Ridge Regression"
      ]
    },
    {
      "cell_type": "code",
      "execution_count": null,
      "metadata": {
        "id": "8QooOuDstcUf",
        "colab": {
          "base_uri": "https://localhost:8080/"
        },
        "outputId": "dbae6ec5-5076-424a-8870-310e98472a1d"
      },
      "outputs": [
        {
          "output_type": "execute_result",
          "data": {
            "text/plain": [
              "Ridge()"
            ]
          },
          "metadata": {},
          "execution_count": 57
        }
      ],
      "source": [
        "from sklearn.linear_model import Ridge\n",
        "\n",
        "top = Ridge()\n",
        "top.fit(X_train, y_train)"
      ]
    },
    {
      "cell_type": "code",
      "execution_count": null,
      "metadata": {
        "id": "OlCjclyyuOP4",
        "colab": {
          "base_uri": "https://localhost:8080/"
        },
        "outputId": "1b24e9e5-7037-4a98-fea5-6842e81e8254"
      },
      "outputs": [
        {
          "output_type": "stream",
          "name": "stdout",
          "text": [
            "Training Score:  0.9377005880202063\n",
            "Test Score:  0.9406432841458373\n"
          ]
        }
      ],
      "source": [
        "print(\"Training Score: \", top.score(X_train, y_train))\n",
        "print(\"Test Score: \", top.score(X_test, y_test))"
      ]
    },
    {
      "cell_type": "code",
      "execution_count": null,
      "metadata": {
        "id": "2MbeVcWfuR9U",
        "colab": {
          "base_uri": "https://localhost:8080/"
        },
        "outputId": "85551ea2-9435-431f-dbcb-70c902971de4"
      },
      "outputs": [
        {
          "output_type": "stream",
          "name": "stdout",
          "text": [
            "[[  0.54179792 -24.14413103]]\n",
            "[1098.65810236]\n"
          ]
        }
      ],
      "source": [
        "print(top.coef_)\n",
        "print(top.intercept_)"
      ]
    },
    {
      "cell_type": "code",
      "execution_count": null,
      "metadata": {
        "id": "ZWrYbCa1u93g",
        "colab": {
          "base_uri": "https://localhost:8080/"
        },
        "outputId": "8cecbd9f-e9f0-4a18-e344-338cfce199ae"
      },
      "outputs": [
        {
          "output_type": "stream",
          "name": "stdout",
          "text": [
            "0.9368643320432554\n"
          ]
        }
      ],
      "source": [
        "pred5 = top.predict(X_test)\n",
        "scoreRR = r2_score(pred5, y_test)\n",
        "print(scoreRR)"
      ]
    },
    {
      "cell_type": "markdown",
      "metadata": {
        "id": "Uds5c5btycCw"
      },
      "source": [
        "## Naive Bayes "
      ]
    },
    {
      "cell_type": "code",
      "execution_count": null,
      "metadata": {
        "id": "2Ok-PALAL5t5",
        "colab": {
          "base_uri": "https://localhost:8080/"
        },
        "outputId": "7366a833-b7e8-4aff-89dc-1ed1462e3173"
      },
      "outputs": [
        {
          "output_type": "stream",
          "name": "stderr",
          "text": [
            "/usr/local/lib/python3.7/dist-packages/sklearn/utils/validation.py:993: DataConversionWarning: A column-vector y was passed when a 1d array was expected. Please change the shape of y to (n_samples, ), for example using ravel().\n",
            "  y = column_or_1d(y, warn=True)\n"
          ]
        },
        {
          "output_type": "execute_result",
          "data": {
            "text/plain": [
              "GaussianNB()"
            ]
          },
          "metadata": {},
          "execution_count": 61
        }
      ],
      "source": [
        "from sklearn.naive_bayes import GaussianNB\n",
        "\n",
        "gnb = GaussianNB()\n",
        "gnb.fit(X_train, y_train)"
      ]
    },
    {
      "cell_type": "code",
      "execution_count": null,
      "metadata": {
        "id": "H0ecZMamMp-g",
        "colab": {
          "base_uri": "https://localhost:8080/"
        },
        "outputId": "b6c2fe75-5911-4163-a278-6330fb468487"
      },
      "outputs": [
        {
          "output_type": "stream",
          "name": "stdout",
          "text": [
            "Training Score:  0.3933600925233009\n",
            "Test Score:  0.37768707482993197\n"
          ]
        }
      ],
      "source": [
        "print(\"Training Score: \", gnb.score(X_train, y_train))\n",
        "print(\"Test Score: \", gnb.score(X_test, y_test))"
      ]
    },
    {
      "cell_type": "code",
      "execution_count": null,
      "metadata": {
        "id": "sePVIEUQMyr-",
        "colab": {
          "base_uri": "https://localhost:8080/"
        },
        "outputId": "ec010eed-a7bf-455d-bd8d-73495335ee68"
      },
      "outputs": [
        {
          "output_type": "stream",
          "name": "stdout",
          "text": [
            "0.37768707482993197\n"
          ]
        }
      ],
      "source": [
        "gnbP = gnb.predict(X_test)\n",
        "scoreNB = accuracy_score(gnbP, y_test)\n",
        "print(scoreNB)"
      ]
    },
    {
      "cell_type": "code",
      "execution_count": null,
      "metadata": {
        "id": "T9GgUNOrNO2r",
        "colab": {
          "base_uri": "https://localhost:8080/"
        },
        "outputId": "6ce44e2d-b89f-407d-aef8-026e1f99a1c3"
      },
      "outputs": [
        {
          "output_type": "stream",
          "name": "stdout",
          "text": [
            "[[ 1  0  0 ...  0  0  0]\n",
            " [ 0  0  0 ...  0  0  0]\n",
            " [ 0  0  1 ...  0  0  0]\n",
            " ...\n",
            " [ 0  0  0 ...  0  0  0]\n",
            " [ 0  0  0 ...  0  2  0]\n",
            " [ 0  1  0 ...  0  0 27]]\n"
          ]
        }
      ],
      "source": [
        "mat5 = confusion_matrix(gnbP, y_test)\n",
        "print(mat5)"
      ]
    },
    {
      "cell_type": "code",
      "execution_count": null,
      "metadata": {
        "id": "6r6xx63azIQN",
        "colab": {
          "base_uri": "https://localhost:8080/"
        },
        "outputId": "be415f16-d61d-44ed-977b-4804eea03dc3"
      },
      "outputs": [
        {
          "output_type": "stream",
          "name": "stdout",
          "text": [
            "0.37768707482993197\n"
          ]
        }
      ],
      "source": [
        "scr_nb = recall_score(gnbP, y_test, average = 'micro')\n",
        "print(scr_nb)"
      ]
    },
    {
      "cell_type": "code",
      "execution_count": null,
      "metadata": {
        "id": "LgTY4O2mzIX5",
        "colab": {
          "base_uri": "https://localhost:8080/"
        },
        "outputId": "fcd44820-cd8f-4508-85b4-1aa0cf555321"
      },
      "outputs": [
        {
          "output_type": "stream",
          "name": "stdout",
          "text": [
            "0.37768707482993197\n"
          ]
        }
      ],
      "source": [
        "scr_nb1 = precision_score(gnbP, y_test, average = 'micro')\n",
        "print(scr_nb1)"
      ]
    },
    {
      "cell_type": "code",
      "execution_count": null,
      "metadata": {
        "id": "VM_a3HrNzIfV",
        "colab": {
          "base_uri": "https://localhost:8080/"
        },
        "outputId": "a7fe9cb7-6392-40ef-d9bf-29678ea308f7"
      },
      "outputs": [
        {
          "output_type": "stream",
          "name": "stdout",
          "text": [
            "0.37768707482993197\n"
          ]
        }
      ],
      "source": [
        "scr_nb2 = f1_score(gnbP, y_test, average = 'micro')\n",
        "print(scr_nb2)"
      ]
    },
    {
      "cell_type": "markdown",
      "metadata": {
        "id": "0XSXvpTyyfGK"
      },
      "source": [
        "## kNN Classifier "
      ]
    },
    {
      "cell_type": "code",
      "execution_count": null,
      "metadata": {
        "id": "R9tZRi2AL8ls",
        "colab": {
          "base_uri": "https://localhost:8080/"
        },
        "outputId": "8d3bf341-49c1-46ba-e80a-ac7d422bf853"
      },
      "outputs": [
        {
          "output_type": "stream",
          "name": "stderr",
          "text": [
            "/usr/local/lib/python3.7/dist-packages/sklearn/neighbors/_classification.py:198: DataConversionWarning: A column-vector y was passed when a 1d array was expected. Please change the shape of y to (n_samples,), for example using ravel().\n",
            "  return self._fit(X, y)\n"
          ]
        },
        {
          "output_type": "execute_result",
          "data": {
            "text/plain": [
              "KNeighborsClassifier()"
            ]
          },
          "metadata": {},
          "execution_count": 68
        }
      ],
      "source": [
        "from sklearn.neighbors import KNeighborsClassifier\n",
        "\n",
        "knn = KNeighborsClassifier()\n",
        "knn.fit(X_train, y_train)"
      ]
    },
    {
      "cell_type": "code",
      "execution_count": null,
      "metadata": {
        "id": "TgcmWZwzOZ5L",
        "colab": {
          "base_uri": "https://localhost:8080/"
        },
        "outputId": "336920f0-a443-4710-fb07-5cc2f1c32821"
      },
      "outputs": [
        {
          "output_type": "stream",
          "name": "stdout",
          "text": [
            "Training Score:  0.9263215184706443\n",
            "Test Score:  0.9047619047619048\n"
          ]
        }
      ],
      "source": [
        "print(\"Training Score: \", knn.score(X_train, y_train))\n",
        "print(\"Test Score: \", knn.score(X_test, y_test))"
      ]
    },
    {
      "cell_type": "code",
      "execution_count": null,
      "metadata": {
        "id": "b-RHwEO1Ot8B",
        "colab": {
          "base_uri": "https://localhost:8080/"
        },
        "outputId": "5b245bea-9280-4d3e-dd4e-1ef2e3e10004"
      },
      "outputs": [
        {
          "output_type": "stream",
          "name": "stdout",
          "text": [
            "0.9047619047619048\n"
          ]
        }
      ],
      "source": [
        "knnP = knn.predict(X_test)\n",
        "scoreKNN = accuracy_score(knnP, y_test)\n",
        "print(scoreKNN)"
      ]
    },
    {
      "cell_type": "code",
      "execution_count": null,
      "metadata": {
        "id": "D1Oarbz2O7WU",
        "colab": {
          "base_uri": "https://localhost:8080/"
        },
        "outputId": "cae1d91a-8d72-4e60-a041-fb22cdaa2eaf"
      },
      "outputs": [
        {
          "output_type": "stream",
          "name": "stdout",
          "text": [
            "[[  0   1   0 ...   0   0   0]\n",
            " [  0   0   0 ...   0   0   0]\n",
            " [  0   0   0 ...   0   0   0]\n",
            " ...\n",
            " [  0   0   0 ...   5   0   0]\n",
            " [  0   0   0 ...   0   2   0]\n",
            " [  0   0   0 ...   0   0 106]]\n"
          ]
        }
      ],
      "source": [
        "mat6 = confusion_matrix(knnP, y_test)\n",
        "print(mat6)"
      ]
    },
    {
      "cell_type": "code",
      "execution_count": null,
      "metadata": {
        "id": "N6hRFa5Szx-b",
        "colab": {
          "base_uri": "https://localhost:8080/"
        },
        "outputId": "a4730c8f-7ea1-45da-ae4b-ad584bf64862"
      },
      "outputs": [
        {
          "output_type": "stream",
          "name": "stdout",
          "text": [
            "0.9047619047619048\n"
          ]
        }
      ],
      "source": [
        "scr_knn = recall_score(knnP, y_test, average = 'micro')\n",
        "print(scr_knn)"
      ]
    },
    {
      "cell_type": "code",
      "execution_count": null,
      "metadata": {
        "id": "QZ0xHIRWzyFq",
        "colab": {
          "base_uri": "https://localhost:8080/"
        },
        "outputId": "45713be1-f9b1-486a-c69c-67e5bb716c00"
      },
      "outputs": [
        {
          "output_type": "stream",
          "name": "stdout",
          "text": [
            "0.9047619047619048\n"
          ]
        }
      ],
      "source": [
        "scr_knn1 = precision_score(knnP, y_test, average = 'micro')\n",
        "print(scr_knn1)"
      ]
    },
    {
      "cell_type": "code",
      "execution_count": null,
      "metadata": {
        "id": "y1SeFeKQzyKo",
        "colab": {
          "base_uri": "https://localhost:8080/"
        },
        "outputId": "3b58a661-0f56-4c9f-cdc2-8edb6391e66d"
      },
      "outputs": [
        {
          "output_type": "stream",
          "name": "stdout",
          "text": [
            "0.9047619047619048\n"
          ]
        }
      ],
      "source": [
        "scr_knn2 = f1_score(knnP, y_test, average = 'micro')\n",
        "print(scr_knn2)"
      ]
    },
    {
      "cell_type": "markdown",
      "metadata": {
        "id": "jj8LEjcn7Mbs"
      },
      "source": [
        "## Result Analysis  "
      ]
    },
    {
      "cell_type": "code",
      "execution_count": null,
      "metadata": {
        "id": "FjhDx0EgVyt0",
        "colab": {
          "base_uri": "https://localhost:8080/"
        },
        "outputId": "91296d4a-9b0a-4833-f328-e4b8537fcb5d"
      },
      "outputs": [
        {
          "output_type": "display_data",
          "data": {
            "text/plain": [
              "<Figure size 432x288 with 1 Axes>"
            ],
            "image/png": "[encoded data removed]"
          },
          "metadata": {
            "needs_background": "light"
          }
        }
      ],
      "source": [
        "algorithms = ['kNN', 'NB', 'DT', 'RFC', 'SVC', 'LR', 'RR']\n",
        "\n",
        "accuracy = [scoreKNN, scoreNB, scoreDT, scoreRFC, scoreSVC, scoreLR, scoreRR]\n",
        "\n",
        "bars = plt.bar(algorithms, accuracy, width = 0.5)\n",
        "bars[0].set_color('green')\n",
        "bars[1].set_color('black')\n",
        "bars[2].set_color('red')\n",
        "bars[3].set_color('green')\n",
        "bars[4].set_color('black')\n",
        "bars[5].set_color('red')\n",
        "bars[6].set_color('green')\n",
        "\n",
        "plt.ylabel(\"Percentage\")\n",
        "plt.title(\"Machine Learning Classifiers Accuracy Score Comparison\")\n",
        "plt.show()"
      ]
    },
    {
      "cell_type": "code",
      "execution_count": null,
      "metadata": {
        "id": "ne6LHdH3sBev",
        "colab": {
          "base_uri": "https://localhost:8080/"
        },
        "outputId": "97b8a1a4-6a0a-45af-b727-78ee5012ac95"
      },
      "outputs": [
        {
          "output_type": "display_data",
          "data": {
            "text/plain": [
              "<Figure size 432x288 with 1 Axes>"
            ],
            "image/png": "[encoded data removed]"
          },
          "metadata": {
            "needs_background": "light"
          }
        }
      ],
      "source": [
        "algorithms1 = ['kNN', 'NB', 'DT', 'RFC', 'SVC', 'LR', 'RR']\n",
        "\n",
        "recall = [scr_knn, scr_nb, scr_d, scr_rfc, scr_s, 0, 0]\n",
        "\n",
        "bars1 = plt.bar(algorithms1, recall, width = 0.5)\n",
        "bars1[0].set_color('green')\n",
        "bars1[1].set_color('black')\n",
        "bars1[2].set_color('red')\n",
        "bars1[3].set_color('green')\n",
        "bars1[4].set_color('black')\n",
        "bars1[5].set_color('red')\n",
        "bars1[6].set_color('green')\n",
        "\n",
        "plt.ylabel(\"Percentage\")\n",
        "plt.title(\"Machine Learning Classifiers Recall Score Comparison\")\n",
        "plt.show()"
      ]
    },
    {
      "cell_type": "code",
      "execution_count": null,
      "metadata": {
        "id": "rmU-8VhwsBXv",
        "colab": {
          "base_uri": "https://localhost:8080/"
        },
        "outputId": "2ff88668-c2f1-4524-b98e-27649c967764"
      },
      "outputs": [
        {
          "output_type": "display_data",
          "data": {
            "text/plain": [
              "<Figure size 432x288 with 1 Axes>"
            ],
            "image/png": "[encoded data removed]"
          },
          "metadata": {
            "needs_background": "light"
          }
        }
      ],
      "source": [
        "algorithms2 = ['kNN', 'NB', 'DT', 'RFC', 'SVC', 'LR', 'RR']\n",
        "\n",
        "precision = [scr_knn1, scr_nb1, scr_d1, scr_rfc1, scr_s1, 0, 0]\n",
        "\n",
        "bars2 = plt.bar(algorithms2, precision, width = 0.5)\n",
        "bars2[0].set_color('green')\n",
        "bars2[1].set_color('black')\n",
        "bars2[2].set_color('red')\n",
        "bars2[3].set_color('green')\n",
        "bars2[4].set_color('black')\n",
        "bars2[5].set_color('red')\n",
        "bars2[6].set_color('green')\n",
        "\n",
        "plt.ylabel(\"Percentage\")\n",
        "plt.title(\"Machine Learning Classifiers Precision Score Comparison\")\n",
        "plt.show()"
      ]
    },
    {
      "cell_type": "code",
      "execution_count": null,
      "metadata": {
        "id": "EGYfFSHVsBLP",
        "colab": {
          "base_uri": "https://localhost:8080/"
        },
        "outputId": "7e2530fa-713f-4979-9560-22fbf5be7c25"
      },
      "outputs": [
        {
          "output_type": "display_data",
          "data": {
            "text/plain": [
              "<Figure size 432x288 with 1 Axes>"
            ],
            "image/png": "[encoded data removed]"
          },
          "metadata": {
            "needs_background": "light"
          }
        }
      ],
      "source": [
        "algorithms3 = ['kNN', 'NB', 'DT', 'RFC', 'SVC', 'LR', 'RR']\n",
        "\n",
        "f1 = [scr_knn2, scr_nb2, scr_d2, scr_rfc2, scr_s2, 0, 0]\n",
        "\n",
        "bars3 = plt.bar(algorithms3, f1, width = 0.5)\n",
        "bars3[0].set_color('green')\n",
        "bars3[1].set_color('black')\n",
        "bars3[2].set_color('red')\n",
        "bars3[3].set_color('green')\n",
        "bars3[4].set_color('black')\n",
        "bars3[5].set_color('red')\n",
        "bars3[6].set_color('green')\n",
        "\n",
        "plt.ylabel(\"Percentage\")\n",
        "plt.title(\"Machine Learning Classifiers F1 Score Comparison\")\n",
        "plt.show()"
      ]
    }
  ],
  "metadata": {
    "colab": {
      "collapsed_sections": [],
      "provenance": []
    },
    "kernelspec": {
      "display_name": "Python 3",
      "name": "python3"
    },
    "language_info": {
      "name": "python"
    }
  },
  "nbformat": 4,
  "nbformat_minor": 0
}